{
  "nbformat": 4,
  "nbformat_minor": 0,
  "metadata": {
    "colab": {
      "provenance": [],
      "authorship_tag": "ABX9TyOpp1+B5gQglEn6cV16sr6I",
      "include_colab_link": true
    },
    "kernelspec": {
      "name": "python3",
      "display_name": "Python 3"
    },
    "language_info": {
      "name": "python"
    }
  },
  "cells": [
    {
      "cell_type": "markdown",
      "metadata": {
        "id": "view-in-github",
        "colab_type": "text"
      },
      "source": [
        "<a href=\"https://colab.research.google.com/github/MaryMurugami/FI_Phase1_Project/blob/main/Newsgroups_Dataset_Lab_ipynb.ipynb\" target=\"_parent\"><img src=\"https://colab.research.google.com/assets/colab-badge.svg\" alt=\"Open In Colab\"/></a>"
      ]
    },
    {
      "cell_type": "code",
      "execution_count": 2,
      "metadata": {
        "id": "D6FjiZxaq6jX"
      },
      "outputs": [],
      "source": [
        "# To load the data set, we will use sklearn.datasets\n",
        "\n",
        "from sklearn.datasets import fetch_20newsgroups\n",
        "\n",
        "categories = [\n",
        "    'comp.windows.x',\n",
        "    'rec.sport.hockey',\n",
        "    'rec.sport.hockey',\n",
        "    'talk.religion.misc',\n",
        "    'talk.politics.misc'\n",
        "]\n",
        "\n",
        "newsgroups_train = fetch_20newsgroups(\n",
        "    subset=\"train\",\n",
        "    remove=('headers', 'footers', 'quotes'),\n",
        "    categories=categories\n",
        ")\n",
        "\n",
        "newsgroups_test = fetch_20newsgroups(\n",
        "    subset=\"test\",\n",
        "    remove=('headers', 'footers', 'quotes'),\n",
        "    categories=categories\n",
        ")"
      ]
    },
    {
      "cell_type": "code",
      "source": [
        "type(newsgroups_train)"
      ],
      "metadata": {
        "colab": {
          "base_uri": "https://localhost:8080/"
        },
        "id": "zGkJnnJ1spa6",
        "outputId": "0a9b2b09-b15b-427c-d90a-fe80a79eadaf"
      },
      "execution_count": 3,
      "outputs": [
        {
          "output_type": "execute_result",
          "data": {
            "text/plain": [
              "sklearn.utils._bunch.Bunch"
            ]
          },
          "metadata": {},
          "execution_count": 3
        }
      ]
    },
    {
      "cell_type": "markdown",
      "source": [
        "We need to extract the feature values using .data and .target to extract target values"
      ],
      "metadata": {
        "id": "HWdk8iyAtii_"
      }
    },
    {
      "cell_type": "code",
      "source": [
        "# to create X_train, X_test, y_train and y_test using newsgroups_tain and newsgroups_test\n",
        "\n",
        "\n",
        "import pandas as pd\n",
        "pd.set_option('max_colwidth', 400)\n",
        "pd.set_option('use_mathjax', False)\n",
        "\n",
        "# To extract values from Bunch objects\n",
        "X_train = pd.DataFrame(newsgroups_train.data, columns=[\"text\"])\n",
        "X_test = pd.DataFrame(newsgroups_test.data, columns=[\"text\"])\n",
        "y_train = pd.Series(newsgroups_train.target, name=\"category\")\n",
        "y_test = pd.Series(newsgroups_test.target, name=\"category\")"
      ],
      "metadata": {
        "id": "bk4YWctOse03"
      },
      "execution_count": 4,
      "outputs": []
    },
    {
      "cell_type": "code",
      "source": [
        "# to check shape of the variables\n",
        "\n",
        "import pandas as pd\n",
        "pd.set_option('max_colwidth', 400)\n",
        "pd.set_option('use_mathjax', False)\n",
        "\n",
        "# Extract values from Bunch objects\n",
        "X_train = pd.DataFrame(newsgroups_train.data, columns=[\"text\"])\n",
        "X_test = pd.DataFrame(newsgroups_test.data, columns=[\"text\"])\n",
        "y_train = pd.Series(newsgroups_train.target, name=\"category\")\n",
        "y_test = pd.Series(newsgroups_test.target, name=\"category\")"
      ],
      "metadata": {
        "id": "fjOj_ibZuQ5S"
      },
      "execution_count": 5,
      "outputs": []
    },
    {
      "cell_type": "code",
      "source": [
        "# How many categories are represented in the target distribution dataset\n",
        "\n",
        "train_target_counts = pd.DataFrame(y_train.value_counts())\n",
        "train_target_counts[\"label\"] = [newsgroups_train.target_names[val] for val in train_target_counts.index]\n",
        "train_target_counts.columns = [\"count\", \"target name\"]\n",
        "train_target_counts.index.name = \"target value\"\n",
        "train_target_counts"
      ],
      "metadata": {
        "colab": {
          "base_uri": "https://localhost:8080/",
          "height": 206
        },
        "id": "MxkNSEuhwU4K",
        "outputId": "8e700d19-7f3b-4113-e662-034d7657387f"
      },
      "execution_count": 7,
      "outputs": [
        {
          "output_type": "execute_result",
          "data": {
            "text/plain": [
              "              count         target name\n",
              "target value                           \n",
              "1               600    rec.sport.hockey\n",
              "0               593      comp.windows.x\n",
              "3               465  talk.politics.misc\n",
              "4               377  talk.religion.misc"
            ],
            "text/html": [
              "\n",
              "  <div id=\"df-7761f87a-5360-4e11-849c-887ec1d92ede\">\n",
              "    <div class=\"colab-df-container\">\n",
              "      <div>\n",
              "<style scoped>\n",
              "    .dataframe tbody tr th:only-of-type {\n",
              "        vertical-align: middle;\n",
              "    }\n",
              "\n",
              "    .dataframe tbody tr th {\n",
              "        vertical-align: top;\n",
              "    }\n",
              "\n",
              "    .dataframe thead th {\n",
              "        text-align: right;\n",
              "    }\n",
              "</style>\n",
              "<table border=\"1\" class=\"dataframe tex2jax_ignore\">\n",
              "  <thead>\n",
              "    <tr style=\"text-align: right;\">\n",
              "      <th></th>\n",
              "      <th>count</th>\n",
              "      <th>target name</th>\n",
              "    </tr>\n",
              "    <tr>\n",
              "      <th>target value</th>\n",
              "      <th></th>\n",
              "      <th></th>\n",
              "    </tr>\n",
              "  </thead>\n",
              "  <tbody>\n",
              "    <tr>\n",
              "      <th>1</th>\n",
              "      <td>600</td>\n",
              "      <td>rec.sport.hockey</td>\n",
              "    </tr>\n",
              "    <tr>\n",
              "      <th>0</th>\n",
              "      <td>593</td>\n",
              "      <td>comp.windows.x</td>\n",
              "    </tr>\n",
              "    <tr>\n",
              "      <th>3</th>\n",
              "      <td>465</td>\n",
              "      <td>talk.politics.misc</td>\n",
              "    </tr>\n",
              "    <tr>\n",
              "      <th>4</th>\n",
              "      <td>377</td>\n",
              "      <td>talk.religion.misc</td>\n",
              "    </tr>\n",
              "  </tbody>\n",
              "</table>\n",
              "</div>\n",
              "      <button class=\"colab-df-convert\" onclick=\"convertToInteractive('df-7761f87a-5360-4e11-849c-887ec1d92ede')\"\n",
              "              title=\"Convert this dataframe to an interactive table.\"\n",
              "              style=\"display:none;\">\n",
              "        \n",
              "  <svg xmlns=\"http://www.w3.org/2000/svg\" height=\"24px\"viewBox=\"0 0 24 24\"\n",
              "       width=\"24px\">\n",
              "    <path d=\"M0 0h24v24H0V0z\" fill=\"none\"/>\n",
              "    <path d=\"M18.56 5.44l.94 2.06.94-2.06 2.06-.94-2.06-.94-.94-2.06-.94 2.06-2.06.94zm-11 1L8.5 8.5l.94-2.06 2.06-.94-2.06-.94L8.5 2.5l-.94 2.06-2.06.94zm10 10l.94 2.06.94-2.06 2.06-.94-2.06-.94-.94-2.06-.94 2.06-2.06.94z\"/><path d=\"M17.41 7.96l-1.37-1.37c-.4-.4-.92-.59-1.43-.59-.52 0-1.04.2-1.43.59L10.3 9.45l-7.72 7.72c-.78.78-.78 2.05 0 2.83L4 21.41c.39.39.9.59 1.41.59.51 0 1.02-.2 1.41-.59l7.78-7.78 2.81-2.81c.8-.78.8-2.07 0-2.86zM5.41 20L4 18.59l7.72-7.72 1.47 1.35L5.41 20z\"/>\n",
              "  </svg>\n",
              "      </button>\n",
              "      \n",
              "  <style>\n",
              "    .colab-df-container {\n",
              "      display:flex;\n",
              "      flex-wrap:wrap;\n",
              "      gap: 12px;\n",
              "    }\n",
              "\n",
              "    .colab-df-convert {\n",
              "      background-color: #E8F0FE;\n",
              "      border: none;\n",
              "      border-radius: 50%;\n",
              "      cursor: pointer;\n",
              "      display: none;\n",
              "      fill: #1967D2;\n",
              "      height: 32px;\n",
              "      padding: 0 0 0 0;\n",
              "      width: 32px;\n",
              "    }\n",
              "\n",
              "    .colab-df-convert:hover {\n",
              "      background-color: #E2EBFA;\n",
              "      box-shadow: 0px 1px 2px rgba(60, 64, 67, 0.3), 0px 1px 3px 1px rgba(60, 64, 67, 0.15);\n",
              "      fill: #174EA6;\n",
              "    }\n",
              "\n",
              "    [theme=dark] .colab-df-convert {\n",
              "      background-color: #3B4455;\n",
              "      fill: #D2E3FC;\n",
              "    }\n",
              "\n",
              "    [theme=dark] .colab-df-convert:hover {\n",
              "      background-color: #434B5C;\n",
              "      box-shadow: 0px 1px 3px 1px rgba(0, 0, 0, 0.15);\n",
              "      filter: drop-shadow(0px 1px 2px rgba(0, 0, 0, 0.3));\n",
              "      fill: #FFFFFF;\n",
              "    }\n",
              "  </style>\n",
              "\n",
              "      <script>\n",
              "        const buttonEl =\n",
              "          document.querySelector('#df-7761f87a-5360-4e11-849c-887ec1d92ede button.colab-df-convert');\n",
              "        buttonEl.style.display =\n",
              "          google.colab.kernel.accessAllowed ? 'block' : 'none';\n",
              "\n",
              "        async function convertToInteractive(key) {\n",
              "          const element = document.querySelector('#df-7761f87a-5360-4e11-849c-887ec1d92ede');\n",
              "          const dataTable =\n",
              "            await google.colab.kernel.invokeFunction('convertToInteractive',\n",
              "                                                     [key], {});\n",
              "          if (!dataTable) return;\n",
              "\n",
              "          const docLinkHtml = 'Like what you see? Visit the ' +\n",
              "            '<a target=\"_blank\" href=https://colab.research.google.com/notebooks/data_table.ipynb>data table notebook</a>'\n",
              "            + ' to learn more about interactive tables.';\n",
              "          element.innerHTML = '';\n",
              "          dataTable['output_type'] = 'display_data';\n",
              "          await google.colab.output.renderOutput(dataTable, element);\n",
              "          const docLink = document.createElement('div');\n",
              "          docLink.innerHTML = docLinkHtml;\n",
              "          element.appendChild(docLink);\n",
              "        }\n",
              "      </script>\n",
              "    </div>\n",
              "  </div>\n",
              "  "
            ]
          },
          "metadata": {},
          "execution_count": 7
        }
      ]
    },
    {
      "cell_type": "code",
      "source": [
        "# We will sample 5 records to look at how the full text is displayed in each\n",
        "\n",
        "train_sample = X_train.sample(5, random_state=22)\n",
        "train_sample[\"label\"] = [y_train[val] for val in train_sample.index]\n",
        "train_sample.style.set_properties(**{'text-align': 'left'})"
      ],
      "metadata": {
        "colab": {
          "base_uri": "https://localhost:8080/",
          "height": 692
        },
        "id": "tkF3bkRwwgyX",
        "outputId": "1a3b6fc8-e9e7-4b44-d327-9c2ef4845d02"
      },
      "execution_count": 8,
      "outputs": [
        {
          "output_type": "execute_result",
          "data": {
            "text/plain": [
              "<pandas.io.formats.style.Styler at 0x7f476c33c400>"
            ],
            "text/html": [
              "<style type=\"text/css\">\n",
              "#T_88bac_row0_col0, #T_88bac_row0_col1, #T_88bac_row1_col0, #T_88bac_row1_col1, #T_88bac_row2_col0, #T_88bac_row2_col1, #T_88bac_row3_col0, #T_88bac_row3_col1, #T_88bac_row4_col0, #T_88bac_row4_col1 {\n",
              "  text-align: left;\n",
              "}\n",
              "</style>\n",
              "<table id=\"T_88bac\" class=\"dataframe\">\n",
              "  <thead>\n",
              "    <tr>\n",
              "      <th class=\"blank level0\" >&nbsp;</th>\n",
              "      <th id=\"T_88bac_level0_col0\" class=\"col_heading level0 col0\" >text</th>\n",
              "      <th id=\"T_88bac_level0_col1\" class=\"col_heading level0 col1\" >label</th>\n",
              "    </tr>\n",
              "  </thead>\n",
              "  <tbody>\n",
              "    <tr>\n",
              "      <th id=\"T_88bac_level0_row0\" class=\"row_heading level0 row0\" >973</th>\n",
              "      <td id=\"T_88bac_row0_col0\" class=\"data row0 col0\" >\n",
              "  > Hey guys!\n",
              "  > I work on many stations and would like this name and current logname\n",
              "  > to be in a title of Xterm when it's open and a machine name only\n",
              "  > when it's closed. In other words, I want $HOST and $LOGNAME to appear\n",
              "  > as a title of opened XTerm and $HOST when XTerm is closed.\n",
              "  > How can I do it?\n",
              "\n",
              "[Apologies if I'm answering something already answered in the FAQ.\n",
              "Our news feed has been losing a lot of articles lately - so I haven't\n",
              "seen the FAQ lately to check.]\n",
              "\n",
              "\n",
              "Two ways:\n",
              " \n",
              " 1) When you start the xterm, you can use command line options:\n",
              "         -n ICON_NAME           To set the icon label\n",
              "         -T WINDOW_TITLE        To set the window title\n",
              "         -title WINDOW_TITLE    Equivalent to -T WINDOW_TITLE\n",
              "\n",
              " 2) You can use escape sequences to change things on the fly:\n",
              "\n",
              "    The basic escape sequence is:\n",
              "\tESC ] <P> ; <SOME_ARBITARY_TEXT> BEL\n",
              "\n",
              "    where ESC and BEL are the ASCII ESCAPE and BELL characters,\n",
              "    <P> is an ASCII decimal digit -- '2', '1', or '0', depending\n",
              "    on whether you are trying to set the window or icon title,\n",
              "    or both, and <SOME_ARBITARY_TEXT> is your desired label string.\n",
              "\n",
              "    Hence, this command will set the window & icon title:\n",
              "         echo \"\\033]0;YOUR_TITLE_GOES_HERE\\007\\c\" \n",
              "\n",
              "    To set just the icon title:\n",
              "         echo \"\\033]1;YOUR_TITLE_GOES_HERE\\007\\c\" \n",
              "\n",
              "    To set just the window title:\n",
              "         echo \"\\033]2;YOUR_TITLE_GOES_HERE\\007\\c\" \n",
              "\n",
              "    Of course, you may have to fiddle with exact syntax,\n",
              "    depending on how the echo command works on your system\n",
              "    and what shell you are using (I've shown System-V semantics\n",
              "    under Bourne or Korn shells).\n",
              "\n",
              "    [Hint for Sun OS users:  use /usr/5bin/echo instead of\n",
              "    /bin/echo or Csh's built-in echo.  Otherwise you'll have\n",
              "    to embed literal ESC and BEL characters in the string\n",
              "    instead of using convenient octal sequences.]\n",
              "\n",
              "    If you want your titlebar updated continously, say to show\n",
              "    your current directory, hostname, or somesuch, then you'll\n",
              "    have to see if you can coerce your shell into spitting out\n",
              "    the appropriate escape sequences when it prompts for commands.\n",
              "    Sometimes you can just put the appropriate escape sequence\n",
              "    in the prompt string itself, sometimes not ...\n",
              "</td>\n",
              "      <td id=\"T_88bac_row0_col1\" class=\"data row0 col1\" >0</td>\n",
              "    </tr>\n",
              "    <tr>\n",
              "      <th id=\"T_88bac_level0_row1\" class=\"row_heading level0 row1\" >1333</th>\n",
              "      <td id=\"T_88bac_row1_col0\" class=\"data row1 col0\" >\n",
              "Another dodge.  Oh well.  I'm no match for your amazing repertoire\n",
              "of red herrings and smoke screens.  \n",
              "\n",
              "You asked for an apology.  I'm not going to apologize for pointing out\n",
              "that your straw-man argument was a straw-man argument.  Nor for saying\n",
              "that your list of \"bible contradictions\" shows such low standards of\n",
              "scholarship that it should be an embarrassment to anti-inerrantists,\n",
              "just as Josh McDowell should be an embarrassment to the fundies.  Nor\n",
              "for objecting various times to your taking quotes out of context.  Nor\n",
              "for pointing out that \"they do it too\" is not an excuse. Nor for calling\n",
              "your red herrings and smoke screens what they are.\n",
              "\n",
              "I'm still not sure why you think I'm a hypocrite.  It's true that I\n",
              "haven't responded to any of Robert Weiss' articles, which may be due in\n",
              "part to the fact that I almost never read his articles.  But I have\n",
              "responded to both you and Frank DeCenso (a fundie/inerrantist.)  Both\n",
              "you and Frank have taken quotes out of context, and I've objected to\n",
              "both of you doing so.  I've criticized bad arguments both when they\n",
              "were yours and I agreed with the conclusion (that the Bible is not\n",
              "inerrant), and when they were Frank's and I disagreed with the\n",
              "conclusion.  I've criticized both you and Frank for evading questions,\n",
              "and for trying to \"explain me away\" without addressing the objections\n",
              "I raise (you by accusing me of being hypocritical and irrational, Frank\n",
              "by accusing me of being motivated by a desire to attack the Bible.) I\n",
              "don't see that any of this is hypocritical, nor do I apologize for it.\n",
              "\n",
              "I do apologize, however, for having offended you in any other way.\n",
              "\n",
              "Happy now?</td>\n",
              "      <td id=\"T_88bac_row1_col1\" class=\"data row1 col1\" >4</td>\n",
              "    </tr>\n",
              "    <tr>\n",
              "      <th id=\"T_88bac_level0_row2\" class=\"row_heading level0 row2\" >663</th>\n",
              "      <td id=\"T_88bac_row2_col0\" class=\"data row2 col0\" >NHL RESULTS FOR GAMES PLAYED 4/05/93.\n",
              "\n",
              "--------------------------------------------------------------------------------\n",
              "                                  STANDINGS\n",
              "      PATRICK              ADAMS              NORRIS              SMYTHE\n",
              " TM    W  L  T  PT   TM    W  L  T  PT   TM    W  L  T  PT   TM    W  L  T  PT\n",
              " \n",
              "xPIT  53 21  6 112  yMON  47 27  6 100  yDET  44 28  9  97  yVAN  42 28  9  93\n",
              " WAS  40 31  7  87  yBOS  46 26  7  99  yCHI  43 25 11  97  yCAL  40 29 10  90\n",
              " NJ   38 35  6  82  yQUE  44 25 10  98  yTOR  42 26 11  95  yLA   37 33  9  83\n",
              " NYI  37 34  6  80  yBUF  38 31 10  86   STL  35 34 10  80  yWIN  37 35  7  81\n",
              " NYR  34 33 11  79   HAR  24 49  5  53   MIN  34 35 10  78   EDM  26 45  8  60\n",
              " PHL  30 37 11  71   OTT   9 66  4  22   TB   22 51  5  49   SJ   10 68  2  22\n",
              "\n",
              "x - Clinched Division Title\n",
              "y - Clinched Playoff Berth\n",
              "\n",
              "--------------------------------------------------------------------------------\n",
              "\n",
              "Hartford Whalers   (24-49-5)   1   1   3   -   5\n",
              "New York Rangers  (34-33-11)   1   2   1   -   4\n",
              "\n",
              "1st period: HAR, Cunneyworth 5 - (Janssens, Greig) 12:21\n",
              "\t    NYR, Graves 34 - (Turcotte, Zubov) 18:39\n",
              "\n",
              "2nd period: NYR, Kovalev 19 - (Turcotte, Graves) 2:12\n",
              "\t    HAR, Sanderson 44 - (Cassels) (pp) 4:54\n",
              "\t    NYR, Amonte 30 - (Andersson, Vanbiesbrouck) (pp) 19:13\n",
              "\n",
              "3rd period: NYR, M.Messier 25 - (Amonte, Andersson) 2:26\n",
              "\t    HAR, Sanderson 45 - (Cassels) (sh) 5:23\n",
              "\t    HAR, Nylanders 6 - (Ladouceur) 8:35\n",
              "\t    HAR, Verbeek 36 - (Zalapski) 17:43\n",
              "\n",
              "Powerplay Opportunities-Whalers 1 of 4\n",
              "\t\t\tRangers 1 of 4\n",
              "\n",
              "Shots on Goal-\tWhalers   7   8   8  -  23\n",
              "\t\tRangers   9  10  12  -  31\n",
              "\n",
              "Hartford Whalers--Gosselin (4-7-1) (31 shots - 27 saves)\n",
              "New York Rangers--Vanbiesbrouck (20-18-7) (23 shots - 18 saves)\n",
              "\n",
              "ATT-17,806\n",
              "\n",
              "--------------------------------------------------------------------------------\n",
              "</td>\n",
              "      <td id=\"T_88bac_row2_col1\" class=\"data row2 col1\" >1</td>\n",
              "    </tr>\n",
              "    <tr>\n",
              "      <th id=\"T_88bac_level0_row3\" class=\"row_heading level0 row3\" >1659</th>\n",
              "      <td id=\"T_88bac_row3_col0\" class=\"data row3 col0\" >Hi, \n",
              "\n",
              "I'm trying to write a Motif program on an Interactive Unix machine, and I'm\n",
              "observing very strange behavior when my program attempts to expose a\n",
              "DrawingArea. Namely, some Xlib operations work, and some do not. In\n",
              "particular, the expose consist of two XFillRectangle calls followed by some\n",
              "XDrawPoint calls, and for reasons unknown to me the point calls are failing\n",
              "whenever a pulldown or popup up menu is (clicked on and) moved in the\n",
              "rightward direction over the drawing area, but after the move, is still on\n",
              "some part of the drawing area. This also happens less consistently when the\n",
              "pulldown/popup is moved in the leftward direction.\n",
              "\n",
              "Assuming that my code is not doing anything incredibly odd, is this a server\n",
              "bug?\n",
              "\n",
              "Thanks,</td>\n",
              "      <td id=\"T_88bac_row3_col1\" class=\"data row3 col1\" >0</td>\n",
              "    </tr>\n",
              "    <tr>\n",
              "      <th id=\"T_88bac_level0_row4\" class=\"row_heading level0 row4\" >57</th>\n",
              "      <td id=\"T_88bac_row4_col0\" class=\"data row4 col0\" >Please subscribe me to this mailing list</td>\n",
              "      <td id=\"T_88bac_row4_col1\" class=\"data row4 col1\" >0</td>\n",
              "    </tr>\n",
              "  </tbody>\n",
              "</table>\n"
            ]
          },
          "metadata": {},
          "execution_count": 8
        }
      ]
    },
    {
      "cell_type": "markdown",
      "source": [
        "Data Cleaning and EDA using nltk\n",
        "To clean the text data, we will standardize the case then tokenize."
      ],
      "metadata": {
        "id": "suPdRHd5xFy8"
      }
    },
    {
      "cell_type": "code",
      "source": [
        "rec_sport_hockey_sample = train_sample.iloc[0][\"text\"]\n",
        "rec_sport_hockey_sample"
      ],
      "metadata": {
        "colab": {
          "base_uri": "https://localhost:8080/",
          "height": 123
        },
        "id": "RLDZCEOvw_a8",
        "outputId": "e8f9de89-7b5e-4bef-c22c-445e57e8dafb"
      },
      "execution_count": 10,
      "outputs": [
        {
          "output_type": "execute_result",
          "data": {
            "text/plain": [
              "'\\n  > Hey guys!\\n  > I work on many stations and would like this name and current logname\\n  > to be in a title of Xterm when it\\'s open and a machine name only\\n  > when it\\'s closed. In other words, I want $HOST and $LOGNAME to appear\\n  > as a title of opened XTerm and $HOST when XTerm is closed.\\n  > How can I do it?\\n\\n[Apologies if I\\'m answering something already answered in the FAQ.\\nOur news feed has been losing a lot of articles lately - so I haven\\'t\\nseen the FAQ lately to check.]\\n\\n\\nTwo ways:\\n \\n 1) When you start the xterm, you can use command line options:\\n         -n ICON_NAME           To set the icon label\\n         -T WINDOW_TITLE        To set the window title\\n         -title WINDOW_TITLE    Equivalent to -T WINDOW_TITLE\\n\\n 2) You can use escape sequences to change things on the fly:\\n\\n    The basic escape sequence is:\\n\\tESC ] <P> ; <SOME_ARBITARY_TEXT> BEL\\n\\n    where ESC and BEL are the ASCII ESCAPE and BELL characters,\\n    <P> is an ASCII decimal digit -- \\'2\\', \\'1\\', or \\'0\\', depending\\n    on whether you are trying to set the window or icon title,\\n    or both, and <SOME_ARBITARY_TEXT> is your desired label string.\\n\\n    Hence, this command will set the window & icon title:\\n         echo \"\\\\033]0;YOUR_TITLE_GOES_HERE\\\\007\\\\c\" \\n\\n    To set just the icon title:\\n         echo \"\\\\033]1;YOUR_TITLE_GOES_HERE\\\\007\\\\c\" \\n\\n    To set just the window title:\\n         echo \"\\\\033]2;YOUR_TITLE_GOES_HERE\\\\007\\\\c\" \\n\\n    Of course, you may have to fiddle with exact syntax,\\n    depending on how the echo command works on your system\\n    and what shell you are using (I\\'ve shown System-V semantics\\n    under Bourne or Korn shells).\\n\\n    [Hint for Sun OS users:  use /usr/5bin/echo instead of\\n    /bin/echo or Csh\\'s built-in echo.  Otherwise you\\'ll have\\n    to embed literal ESC and BEL characters in the string\\n    instead of using convenient octal sequences.]\\n\\n    If you want your titlebar updated continously, say to show\\n    your current directory, hostname, or somesuch, then you\\'ll\\n    have to see if you can coerce your shell into spitting out\\n    the appropriate escape sequences when it prompts for commands.\\n    Sometimes you can just put the appropriate escape sequence\\n    in the prompt string itself, sometimes not ...\\n'"
            ],
            "application/vnd.google.colaboratory.intrinsic+json": {
              "type": "string"
            }
          },
          "metadata": {},
          "execution_count": 10
        }
      ]
    },
    {
      "cell_type": "code",
      "source": [
        "# Standardize by making everything lowercase\n",
        "\n",
        "rec_sport_hockey_sample.lower()"
      ],
      "metadata": {
        "colab": {
          "base_uri": "https://localhost:8080/",
          "height": 123
        },
        "id": "tQUMCyz914j2",
        "outputId": "513ce325-1245-4450-a23d-121a96f348f8"
      },
      "execution_count": 11,
      "outputs": [
        {
          "output_type": "execute_result",
          "data": {
            "text/plain": [
              "'\\n  > hey guys!\\n  > i work on many stations and would like this name and current logname\\n  > to be in a title of xterm when it\\'s open and a machine name only\\n  > when it\\'s closed. in other words, i want $host and $logname to appear\\n  > as a title of opened xterm and $host when xterm is closed.\\n  > how can i do it?\\n\\n[apologies if i\\'m answering something already answered in the faq.\\nour news feed has been losing a lot of articles lately - so i haven\\'t\\nseen the faq lately to check.]\\n\\n\\ntwo ways:\\n \\n 1) when you start the xterm, you can use command line options:\\n         -n icon_name           to set the icon label\\n         -t window_title        to set the window title\\n         -title window_title    equivalent to -t window_title\\n\\n 2) you can use escape sequences to change things on the fly:\\n\\n    the basic escape sequence is:\\n\\tesc ] <p> ; <some_arbitary_text> bel\\n\\n    where esc and bel are the ascii escape and bell characters,\\n    <p> is an ascii decimal digit -- \\'2\\', \\'1\\', or \\'0\\', depending\\n    on whether you are trying to set the window or icon title,\\n    or both, and <some_arbitary_text> is your desired label string.\\n\\n    hence, this command will set the window & icon title:\\n         echo \"\\\\033]0;your_title_goes_here\\\\007\\\\c\" \\n\\n    to set just the icon title:\\n         echo \"\\\\033]1;your_title_goes_here\\\\007\\\\c\" \\n\\n    to set just the window title:\\n         echo \"\\\\033]2;your_title_goes_here\\\\007\\\\c\" \\n\\n    of course, you may have to fiddle with exact syntax,\\n    depending on how the echo command works on your system\\n    and what shell you are using (i\\'ve shown system-v semantics\\n    under bourne or korn shells).\\n\\n    [hint for sun os users:  use /usr/5bin/echo instead of\\n    /bin/echo or csh\\'s built-in echo.  otherwise you\\'ll have\\n    to embed literal esc and bel characters in the string\\n    instead of using convenient octal sequences.]\\n\\n    if you want your titlebar updated continously, say to show\\n    your current directory, hostname, or somesuch, then you\\'ll\\n    have to see if you can coerce your shell into spitting out\\n    the appropriate escape sequences when it prompts for commands.\\n    sometimes you can just put the appropriate escape sequence\\n    in the prompt string itself, sometimes not ...\\n'"
            ],
            "application/vnd.google.colaboratory.intrinsic+json": {
              "type": "string"
            }
          },
          "metadata": {},
          "execution_count": 11
        }
      ]
    },
    {
      "cell_type": "code",
      "source": [
        "# To standardize the case in the full dataset using .str.lower()\n",
        "\n",
        "\n",
        "# To transform sample data to lowercase\n",
        "train_sample[\"text\"] = train_sample[\"text\"].str.lower()\n",
        "# To display full text\n",
        "train_sample.style.set_properties(**{'text-align': 'left'})"
      ],
      "metadata": {
        "colab": {
          "base_uri": "https://localhost:8080/",
          "height": 675
        },
        "id": "d3iWGgHn3aYC",
        "outputId": "8631f9b4-d8c1-40eb-a5ae-5937a3fc80e5"
      },
      "execution_count": 12,
      "outputs": [
        {
          "output_type": "execute_result",
          "data": {
            "text/plain": [
              "<pandas.io.formats.style.Styler at 0x7f476c33ceb0>"
            ],
            "text/html": [
              "<style type=\"text/css\">\n",
              "#T_46962_row0_col0, #T_46962_row0_col1, #T_46962_row1_col0, #T_46962_row1_col1, #T_46962_row2_col0, #T_46962_row2_col1, #T_46962_row3_col0, #T_46962_row3_col1, #T_46962_row4_col0, #T_46962_row4_col1 {\n",
              "  text-align: left;\n",
              "}\n",
              "</style>\n",
              "<table id=\"T_46962\" class=\"dataframe\">\n",
              "  <thead>\n",
              "    <tr>\n",
              "      <th class=\"blank level0\" >&nbsp;</th>\n",
              "      <th id=\"T_46962_level0_col0\" class=\"col_heading level0 col0\" >text</th>\n",
              "      <th id=\"T_46962_level0_col1\" class=\"col_heading level0 col1\" >label</th>\n",
              "    </tr>\n",
              "  </thead>\n",
              "  <tbody>\n",
              "    <tr>\n",
              "      <th id=\"T_46962_level0_row0\" class=\"row_heading level0 row0\" >973</th>\n",
              "      <td id=\"T_46962_row0_col0\" class=\"data row0 col0\" >\n",
              "  > hey guys!\n",
              "  > i work on many stations and would like this name and current logname\n",
              "  > to be in a title of xterm when it's open and a machine name only\n",
              "  > when it's closed. in other words, i want $host and $logname to appear\n",
              "  > as a title of opened xterm and $host when xterm is closed.\n",
              "  > how can i do it?\n",
              "\n",
              "[apologies if i'm answering something already answered in the faq.\n",
              "our news feed has been losing a lot of articles lately - so i haven't\n",
              "seen the faq lately to check.]\n",
              "\n",
              "\n",
              "two ways:\n",
              " \n",
              " 1) when you start the xterm, you can use command line options:\n",
              "         -n icon_name           to set the icon label\n",
              "         -t window_title        to set the window title\n",
              "         -title window_title    equivalent to -t window_title\n",
              "\n",
              " 2) you can use escape sequences to change things on the fly:\n",
              "\n",
              "    the basic escape sequence is:\n",
              "\tesc ] <p> ; <some_arbitary_text> bel\n",
              "\n",
              "    where esc and bel are the ascii escape and bell characters,\n",
              "    <p> is an ascii decimal digit -- '2', '1', or '0', depending\n",
              "    on whether you are trying to set the window or icon title,\n",
              "    or both, and <some_arbitary_text> is your desired label string.\n",
              "\n",
              "    hence, this command will set the window & icon title:\n",
              "         echo \"\\033]0;your_title_goes_here\\007\\c\" \n",
              "\n",
              "    to set just the icon title:\n",
              "         echo \"\\033]1;your_title_goes_here\\007\\c\" \n",
              "\n",
              "    to set just the window title:\n",
              "         echo \"\\033]2;your_title_goes_here\\007\\c\" \n",
              "\n",
              "    of course, you may have to fiddle with exact syntax,\n",
              "    depending on how the echo command works on your system\n",
              "    and what shell you are using (i've shown system-v semantics\n",
              "    under bourne or korn shells).\n",
              "\n",
              "    [hint for sun os users:  use /usr/5bin/echo instead of\n",
              "    /bin/echo or csh's built-in echo.  otherwise you'll have\n",
              "    to embed literal esc and bel characters in the string\n",
              "    instead of using convenient octal sequences.]\n",
              "\n",
              "    if you want your titlebar updated continously, say to show\n",
              "    your current directory, hostname, or somesuch, then you'll\n",
              "    have to see if you can coerce your shell into spitting out\n",
              "    the appropriate escape sequences when it prompts for commands.\n",
              "    sometimes you can just put the appropriate escape sequence\n",
              "    in the prompt string itself, sometimes not ...\n",
              "</td>\n",
              "      <td id=\"T_46962_row0_col1\" class=\"data row0 col1\" >0</td>\n",
              "    </tr>\n",
              "    <tr>\n",
              "      <th id=\"T_46962_level0_row1\" class=\"row_heading level0 row1\" >1333</th>\n",
              "      <td id=\"T_46962_row1_col0\" class=\"data row1 col0\" >\n",
              "another dodge.  oh well.  i'm no match for your amazing repertoire\n",
              "of red herrings and smoke screens.  \n",
              "\n",
              "you asked for an apology.  i'm not going to apologize for pointing out\n",
              "that your straw-man argument was a straw-man argument.  nor for saying\n",
              "that your list of \"bible contradictions\" shows such low standards of\n",
              "scholarship that it should be an embarrassment to anti-inerrantists,\n",
              "just as josh mcdowell should be an embarrassment to the fundies.  nor\n",
              "for objecting various times to your taking quotes out of context.  nor\n",
              "for pointing out that \"they do it too\" is not an excuse. nor for calling\n",
              "your red herrings and smoke screens what they are.\n",
              "\n",
              "i'm still not sure why you think i'm a hypocrite.  it's true that i\n",
              "haven't responded to any of robert weiss' articles, which may be due in\n",
              "part to the fact that i almost never read his articles.  but i have\n",
              "responded to both you and frank decenso (a fundie/inerrantist.)  both\n",
              "you and frank have taken quotes out of context, and i've objected to\n",
              "both of you doing so.  i've criticized bad arguments both when they\n",
              "were yours and i agreed with the conclusion (that the bible is not\n",
              "inerrant), and when they were frank's and i disagreed with the\n",
              "conclusion.  i've criticized both you and frank for evading questions,\n",
              "and for trying to \"explain me away\" without addressing the objections\n",
              "i raise (you by accusing me of being hypocritical and irrational, frank\n",
              "by accusing me of being motivated by a desire to attack the bible.) i\n",
              "don't see that any of this is hypocritical, nor do i apologize for it.\n",
              "\n",
              "i do apologize, however, for having offended you in any other way.\n",
              "\n",
              "happy now?</td>\n",
              "      <td id=\"T_46962_row1_col1\" class=\"data row1 col1\" >4</td>\n",
              "    </tr>\n",
              "    <tr>\n",
              "      <th id=\"T_46962_level0_row2\" class=\"row_heading level0 row2\" >663</th>\n",
              "      <td id=\"T_46962_row2_col0\" class=\"data row2 col0\" >nhl results for games played 4/05/93.\n",
              "\n",
              "--------------------------------------------------------------------------------\n",
              "                                  standings\n",
              "      patrick              adams              norris              smythe\n",
              " tm    w  l  t  pt   tm    w  l  t  pt   tm    w  l  t  pt   tm    w  l  t  pt\n",
              " \n",
              "xpit  53 21  6 112  ymon  47 27  6 100  ydet  44 28  9  97  yvan  42 28  9  93\n",
              " was  40 31  7  87  ybos  46 26  7  99  ychi  43 25 11  97  ycal  40 29 10  90\n",
              " nj   38 35  6  82  yque  44 25 10  98  ytor  42 26 11  95  yla   37 33  9  83\n",
              " nyi  37 34  6  80  ybuf  38 31 10  86   stl  35 34 10  80  ywin  37 35  7  81\n",
              " nyr  34 33 11  79   har  24 49  5  53   min  34 35 10  78   edm  26 45  8  60\n",
              " phl  30 37 11  71   ott   9 66  4  22   tb   22 51  5  49   sj   10 68  2  22\n",
              "\n",
              "x - clinched division title\n",
              "y - clinched playoff berth\n",
              "\n",
              "--------------------------------------------------------------------------------\n",
              "\n",
              "hartford whalers   (24-49-5)   1   1   3   -   5\n",
              "new york rangers  (34-33-11)   1   2   1   -   4\n",
              "\n",
              "1st period: har, cunneyworth 5 - (janssens, greig) 12:21\n",
              "\t    nyr, graves 34 - (turcotte, zubov) 18:39\n",
              "\n",
              "2nd period: nyr, kovalev 19 - (turcotte, graves) 2:12\n",
              "\t    har, sanderson 44 - (cassels) (pp) 4:54\n",
              "\t    nyr, amonte 30 - (andersson, vanbiesbrouck) (pp) 19:13\n",
              "\n",
              "3rd period: nyr, m.messier 25 - (amonte, andersson) 2:26\n",
              "\t    har, sanderson 45 - (cassels) (sh) 5:23\n",
              "\t    har, nylanders 6 - (ladouceur) 8:35\n",
              "\t    har, verbeek 36 - (zalapski) 17:43\n",
              "\n",
              "powerplay opportunities-whalers 1 of 4\n",
              "\t\t\trangers 1 of 4\n",
              "\n",
              "shots on goal-\twhalers   7   8   8  -  23\n",
              "\t\trangers   9  10  12  -  31\n",
              "\n",
              "hartford whalers--gosselin (4-7-1) (31 shots - 27 saves)\n",
              "new york rangers--vanbiesbrouck (20-18-7) (23 shots - 18 saves)\n",
              "\n",
              "att-17,806\n",
              "\n",
              "--------------------------------------------------------------------------------\n",
              "</td>\n",
              "      <td id=\"T_46962_row2_col1\" class=\"data row2 col1\" >1</td>\n",
              "    </tr>\n",
              "    <tr>\n",
              "      <th id=\"T_46962_level0_row3\" class=\"row_heading level0 row3\" >1659</th>\n",
              "      <td id=\"T_46962_row3_col0\" class=\"data row3 col0\" >hi, \n",
              "\n",
              "i'm trying to write a motif program on an interactive unix machine, and i'm\n",
              "observing very strange behavior when my program attempts to expose a\n",
              "drawingarea. namely, some xlib operations work, and some do not. in\n",
              "particular, the expose consist of two xfillrectangle calls followed by some\n",
              "xdrawpoint calls, and for reasons unknown to me the point calls are failing\n",
              "whenever a pulldown or popup up menu is (clicked on and) moved in the\n",
              "rightward direction over the drawing area, but after the move, is still on\n",
              "some part of the drawing area. this also happens less consistently when the\n",
              "pulldown/popup is moved in the leftward direction.\n",
              "\n",
              "assuming that my code is not doing anything incredibly odd, is this a server\n",
              "bug?\n",
              "\n",
              "thanks,</td>\n",
              "      <td id=\"T_46962_row3_col1\" class=\"data row3 col1\" >0</td>\n",
              "    </tr>\n",
              "    <tr>\n",
              "      <th id=\"T_46962_level0_row4\" class=\"row_heading level0 row4\" >57</th>\n",
              "      <td id=\"T_46962_row4_col0\" class=\"data row4 col0\" >please subscribe me to this mailing list</td>\n",
              "      <td id=\"T_46962_row4_col1\" class=\"data row4 col1\" >0</td>\n",
              "    </tr>\n",
              "  </tbody>\n",
              "</table>\n"
            ]
          },
          "metadata": {},
          "execution_count": 12
        }
      ]
    },
    {
      "cell_type": "code",
      "source": [
        "# Perform the same on X_train\n",
        "\n",
        "# To transform text in X_train to lowercase\n",
        "X_train[\"text\"] = X_train[\"text\"].str.lower()\n"
      ],
      "metadata": {
        "id": "Jk4enOlt3sAP"
      },
      "execution_count": 13,
      "outputs": []
    },
    {
      "cell_type": "code",
      "source": [
        "# To check a sample of the text to see if the tex is lowercase\n",
        "\n",
        "X_train.iloc[100][\"text\"]"
      ],
      "metadata": {
        "colab": {
          "base_uri": "https://localhost:8080/",
          "height": 123
        },
        "id": "io2d-ggC4Dke",
        "outputId": "a9e82812-231f-4c43-9eea-43f385535fc5"
      },
      "execution_count": 14,
      "outputs": [
        {
          "output_type": "execute_result",
          "data": {
            "text/plain": [
              "'we have received a number of requests for a reposting of the\\ninternational obfuscated c code contest rules and guidelines.  also\\nsome people requested that these rules be posted to a wider set of\\ngroups.  sorry for the cross posting.\\n\\nsome technical clarifications were made to the rules and guidelines.\\n(see the diff marks at the right hand edge)  the rules and guidelines\\nfor this year remain the same, so people who have already or are\\nin the process of submitting entries for the 1993 ioccc need not worry \\nabout these changes.\\n\\nchongo <landon curt noll> /\\\\cc/\\\\        chongo@toad.com\\nlarry bassel                            lab@sun.com\\n\\n=-=\\n\\n#!/bin/sh\\n# this is part 02 of a multipart archive\\n# ============= mkentry.c ==============\\necho \"x - extracting mkentry.c (text)\"\\nsed \\'s/^x//\\' << \\'shar_eof\\' > mkentry.c &&\\nx/* @(#)mkentry.c\\t1.25 4/5/93 15:58:08 */\\nx/*\\nx * copyright (c) landon curt noll & larry bassel, 1993.\\nx * all rights reserved.  permission for personal, education or non-profit use\\nx * is granted provided this this copyright and notice are included in its\\nx * entirety and remains unaltered.  all other uses must receive prior\\nx * permission in writing from both landon curt noll and larry bassel.\\nx */\\nx/*\\nx * mkentry - make an international obfuscated c code contest entry\\nx *\\nx * usage:\\nx *\\tmkentry -r remarks -b build -p prog.c -o ioccc.entry\\nx *\\nx *\\t-r remarks\\t\\tfile with remarks about the entry\\nx *\\t-b build\\t\\tfile containing how prog.c should be built\\nx *\\t-p prog.c\\t\\tthe obfuscated program source file\\nx *\\t-o ioccc.entry\\t\\tioccc entry output file\\nx *\\nx * compile by:\\nx *\\tcc mkentry.c -o mkentry\\nx */\\nx/*\\nx * placed in the public domain by landon curt noll, 1992.\\nx *\\nx * this software is provided ``as is\\'\\' and without any express or implied\\nx * warranties, including, without limitation, the implied warranties of\\nx * merchantability and fitness for a particular purpose.\\nx */\\nx/*\\nx * warning:\\nx *\\nx * this program attempts to implement the ioccc rules.  every attempt\\nx * has been made to make sure that this program produces an entry that\\nx * conforms to the contest rules.  in all cases, where this program\\nx * differs from the contest rules, the contest rules will be used.  be\\nx * sure to check with the contest rules before submitting an entry.\\nx *\\nx * for more information:\\nx *\\nx *   you may contact the judges by sending email to the following address:\\nx *\\nx *\\t...!{apple,pyramid,sun,uunet}!hoptoad!judges\\t(not the address for\\nx *\\tjudges@toad.com\\t\\t\\t\\t\\t submitting entries)\\nx *\\nx *   questions and comments about the contest are welcome.\\nx *\\nx *  the rules and the guidelines may (and often do) change from year to\\nx *  year.  you should be sure you have the current rules and guidelines\\nx *  prior to submitting entries.  to obtain them, send email to the address\\nx *  above and use the subject \\'send rules\\'.\\nx *\\nx *  one may obtain winners of previous contests (1984 to date), via ftp from:\\nx *\\nx *\\thost: ftp.uu.net\\t(192.48.96.9)\\nx *\\tuser: anonymous\\nx *\\tpass: yourname@yourhost\\nx *\\tdir:  ~/pub/ioccc\\nx *\\nx *  as a last resort, previous winners may be obtained by sending email\\nx *  to the above address.  please use the subject \\'send year winners\\',\\nx *  where year is a single 4 digit year, a year range, or \\'all\\'.\\nx *\\nx * because contest rules change from year to year, one should only use this\\nx * program for the year that it was intended.  be sure that the rule_year\\nx * define below matches this current year.\\nx */\\nx\\nx#include <stdio.h>\\nx#include <ctype.h>\\nx#include <time.h>\\nx#include <sys/types.h>\\nx#include <sys/stat.h>\\nx\\nx/* logic */\\nx#ifndef true\\nx# define true 1\\nx#endif /* true */\\nx#ifndef false\\nx# define false 0\\nx#endif /* false */\\nx#define eof_ok true\\nx#define eof_not_ok false\\nx\\nx/* global limits */\\nx#define rule_year 1993\\t\\t/* note: should match the current year */\\nx#define start_date \"1mar92 0:00 utc\"\\t/* first confirmation received */\\nx#define max_col 79\\t\\t/* max column a line should hit */\\nx#define max_build_size 256\\t/* max how to build size */\\nx#define max_program_size 3217\\t/* max program source size */\\nx#define max_program_size2 1536\\t/* max program source size not counting\\nx\\t\\t\\t\\t   whitespace and {}; not followed by\\nx\\t\\t\\t\\t   whitespace or eof */\\nx#define max_title_len 12\\t/* max chars in the title */\\nx#define max_entry_len 1\\t\\t/* max length in the entry input line */\\nx#define max_entry 8\\t\\t/* max number of entries per person per year */\\nx#define max_file_len 1024\\t/* max filename length for a info file */\\nx\\nx/* where to send entries */\\nx#define entry_addr1 \"...!{apple,pyramid,sun,uunet}!hoptoad!obfuscate\"\\nx#define entry_addr2 \"obfuscate@toad.com\"\\nx\\nx/* uuencode process - assumes ascii */\\nx#define uuencode(c) (encode_str[(int)(c)&0xff])\\nx#define uuencode_len 45\\t\\t/* max uuencode chunk size */\\nx#define uuinfo_mode 0444\\t/* mode of an info file\\'s uuencode file */\\nx#define uubuild_mode 0444\\t/* mode of the build file\\'s uuencode file */\\nx#define uubuild_name \"build\"\\t/* name for the build file\\'s uuencode file */\\nx#define uuprog_mode 0444\\t/* mode of the program\\'s uuencode file */\\nx#define uuprog_name \"prog.c\"\\t/* name for the program\\'s uuencode file */\\nx\\nx/* encode_str[(char)val] is the uuencoded character of val */\\nxchar encode_str[256+1] = \"`!\\\\\"#$%&\\'()*+,-./0123456789:;<=>?@abcdefghijklmnopqrstuvwxyz[\\\\\\\\]^_ !\\\\\"#$%&\\'()*+,-./0123456789:;<=>?@abcdefghijklmnopqrstuvwxyz[\\\\\\\\]^_ !\\\\\"#$%&\\'()*+,-./0123456789:;<=>?@abcdefghijklmnopqrstuvwxyz[\\\\\\\\]^_ !\\\\\"#$%&\\'()*+,-./0123456789:;<=>?@abcdefghijklmnopqrstuvwxyz[\\\\\\\\]^_\";\\nx\\nx/* global declarations */\\nxchar *program;\\t\\t\\t/* our name */\\nxlong start_time;\\t\\t/* the startup time */\\nx\\nx/* forward declarations */\\nxvoid parse_args();\\nxvoid usage();\\nxfile *open_remark();\\nxfile *open_build();\\nxfile *open_program();\\nxfile *open_output();\\nxvoid output_entry();\\nxvoid output_remark();\\nxvoid output_author();\\nxvoid output_info();\\nxvoid output_build();\\nxvoid output_program();\\nxvoid output_end();\\nxint get_line();\\nxvoid output_till_dot();\\nxint col_len();\\nxvoid check_io();\\nxvoid uuencode();\\nx\\nxmain(argc, argv)\\nx    int argc;\\t\\t/* arg count */\\nx    char **argv;\\t/* the args */\\nx{\\nx    file *remark=null;\\t/* open remarks stream */\\nx    file *build=null;\\t/* open build file stream */\\nx    file *prog=null;\\t/* open program stream */\\nx    file *output=null;\\t/* open output stream */\\nx    char *rname=null;\\t/* file with remarks about the entry */\\nx    char *bname=null;\\t/* file containing how prog.c should be built */\\nx    char *pname=null;\\t/* the obfuscated program source file */\\nx    char *oname=null;\\t/* ioccc entry output file */\\nx    struct tm *tm;\\t/* startup time structure */\\nx\\nx    /*\\nx     * check on the year\\nx     */\\nx    start_time = time((long *)0);\\nx    tm = gmtime(&start_time);\\nx    if (tm->tm_year != rule_year-1900) {\\nx\\tfprintf(stderr,\\nx\\t\"%s: warning: this program applies to %d, which may differ from %d\\\\n\\\\n\",\\nx\\t    argv[0], rule_year, 1900+tm->tm_year);\\nx    }\\nx\\nx    /*\\nx     * parse the command line args\\nx     */\\nx    parse_args(argc, argv, &rname, &bname, &pname, &oname);\\nx\\nx    /*\\nx     * open/check the input and output files\\nx     *\\nx     * we open and truncate the output file first, in case it is the same\\nx     * as one of the input files.\\nx     */\\nx    output = open_output(oname);\\nx    remark = open_remark(rname);\\nx    build = open_build(bname);\\nx    prog = open_program(pname);\\nx    if (output==null || remark==null || build==null || prog==null) {\\nx\\texit(1);\\nx    }\\nx\\nx    /*\\nx     * output each section\\nx     */\\nx    output_entry(output, oname);\\nx    output_remark(output, oname, remark, rname);\\nx    output_author(output, oname);\\nx    output_info(output, oname);\\nx    output_build(output, oname, build, bname);\\nx    output_program(output, oname, prog, pname);\\nx    output_end(output, oname);\\nx\\nx    /*\\nx     * flush the output\\nx     */\\nx    if (fflush(output) == eof) {\\nx\\tfprintf(stderr, \"%s: flush error in %s: \", program, oname);\\nx\\tperror(\"\");\\nx\\texit(2);\\nx    }\\nx\\nx    /*\\nx     * final words\\nx     */\\nx    printf(\"\\\\nyour entry can be found in %s.  you should check this file\\\\n\",\\nx\\toname);\\nx    printf(\"correct any problems and verify that the uudecode utility will\\\\n\");\\nx    printf(\"correctly decode your build file and program.\\\\n\\\\n\");\\nx    printf(\"this program has been provided as a guide for submitters.  in\\\\n\");\\nx    printf(\"cases where it conflicts with the rules, the rules shall apply.\\\\n\");\\nx    printf(\"it is your responsibility to ensure that your entry conforms to\\\\n\");\\nx    printf(\"the current rules.\\\\n\\\\n\");\\nx    printf(\"email your entries to:\\\\n\");\\nx    printf(\"\\\\t%s\\\\n\", entry_addr1);\\nx    printf(\"\\\\t%s\\\\n\\\\n\", entry_addr2);\\nx    printf(\"please use the following subject when you email your entry:\\\\n\");\\nx    printf(\"\\\\tioccc entry\\\\n\\\\n\");\\nx    /* all done */\\nx    exit(0);\\nx}\\nx\\nx/*\\nx * parse_args - parse the command line args\\nx *\\nx * given the command line args, this function parses them and sets the\\nx * required name flags.  this function will return only if the command\\nx * line syntax is correct.\\nx */\\nxvoid\\nxparse_args(argc, argv, rname, bname, pname, oname)\\nx    int argc;\\t\\t/* arg count */\\nx    char **argv;\\t/* the args */\\nx    char **rname;\\t/* file with remarks about the entry */\\nx    char **bname;\\t/* file containing how prog.c should be built */\\nx    char **pname;\\t/* the obfuscated program source file */\\nx    char **oname;\\t/* ioccc entry output file */\\nx{\\nx    char *optarg;\\t/* -flag option operand */\\nx    int flagname;\\t/* the name of the -flag */\\nx    int i;\\nx\\nx    /*\\nx     * not everyone has getopt, so we must parse args by hand.\\nx     */\\nx    program = argv[0];\\nx    for (i=1; i < argc; ++i) {\\nx\\nx\\t/* determine the flagname */\\nx\\tif (argv[i][0] != \\'-\\') {\\nx\\t    usage(1);\\nx\\t    /*notreached*/\\nx\\t}\\nx\\tflagname = (int)argv[i][1];\\nx\\nx\\t/* determine the flag\\'s operand */\\nx\\tif (flagname != \\'\\\\0\\' && argv[i][2] != \\'\\\\0\\') {\\nx\\t    optarg = &argv[i][2];\\nx\\t} else {\\nx\\t    if (i+1 >= argc) {\\nx\\t\\tusage(2);\\nx\\t\\t/*notreached*/\\nx\\t    } else {\\nx\\t\\toptarg = argv[++i];\\nx\\t    }\\nx\\t}\\nx\\nx\\t/* save the flag\\'s operand in the correct global variable */\\nx\\tswitch (flagname) {\\nx\\tcase \\'r\\':\\nx\\t    *rname = optarg;\\nx\\t    break;\\nx\\tcase \\'b\\':\\nx\\t    *bname = optarg;\\nx\\t    break;\\nx\\tcase \\'p\\':\\nx\\t    *pname = optarg;\\nx\\t    break;\\nx\\tcase \\'o\\':\\nx\\t    *oname = optarg;\\nx\\t    break;\\nx\\tdefault:\\nx\\t    usage(3);\\nx\\t    /*notreached*/\\nx\\t}\\nx    }\\nx\\nx    /*\\nx     * verify that we have all of the required flags\\nx     */\\nx    if (*rname == null || *bname == null || *pname == null || *oname == null) {\\nx\\tusage(4);\\nx\\t/*notreached*/\\nx    }\\nx    return;\\nx}\\nx\\nx/*\\nx * usage - print a usage message and exit\\nx *\\nx * this function does not return.\\nx */\\nxvoid\\nxusage(exitval)\\nx    int exitval;\\t\\t/* exit with this value */\\nx{\\nx    fprintf(stderr,\\nx\\t\"usage: %s -r remarks -b build -p prog.c -o ioccc.entry\\\\n\\\\n\", program);\\nx    fprintf(stderr, \"\\\\t-r remarks\\\\tfile with remarks about the entry\\\\n\");\\nx    fprintf(stderr, \"\\\\t-b build\\\\tfile containing how prog.c should be built\\\\n\");\\nx    fprintf(stderr, \"\\\\t-p prog.c\\\\tthe obfuscated program source file\\\\n\");\\nx    fprintf(stderr, \"\\\\t-o ioccc.entry\\\\tioccc entry output file\\\\n\");\\nx    exit(exitval);\\nx}\\nx\\nx/*\\nx * open_remark - open/check the remark file\\nx *\\nx * the remark file should be indented by 4 spaces, and should not extend\\nx * beyond column max_col.  these are not requirements, so we only warn.\\nx *\\nx * this function returns null on i/o or format error.\\nx */\\nxfile *\\nxopen_remark(filename)\\nx    char *filename;\\nx{\\nx    file *stream;\\t\\t/* the opened file stream */\\nx    char buf[bufsiz+1];\\t\\t/* input buffer */\\nx    int toolong=0;\\t\\t/* number of lines that are too long */\\nx    int non_indent=0;\\t\\t/* number of lines not indented by 4 spaces */\\nx\\nx    /*\\nx     * open the remark input file\\nx     */\\nx    stream = fopen(filename, \"r\");\\nx    if (stream == null) {\\nx\\tfprintf(stderr, \"%s: cannot open remark file: %s: \",\\nx\\t    program, filename);\\nx\\tperror(\"\");\\nx\\treturn(null);\\nx    }\\nx\\nx    /*\\nx     * look at each line\\nx     */\\nx    while (fgets(buf, bufsiz, stream) != null) {\\nx\\nx\\t/* count lines that do not start with 4 spaces */\\nx\\tif (buf[0] != \\'\\\\n\\' && strncmp(buf, \"    \", 4) != 0) {\\nx\\t    ++non_indent;\\nx\\t}\\nx\\nx\\t/* count long lines */\\nx\\tif (col_len(buf) > max_col) {\\nx\\t    /* found a line that is too long */\\nx\\t    ++toolong;\\nx\\t}\\nx    }\\nx\\nx    /* watch for i/o errors */\\nx    check_io(stream, filename, eof_ok);\\nx\\nx    /* note long lines if needed */\\nx    if (toolong > 0) {\\nx\\tfprintf(stderr,\\nx\\t    \"%s: warning: %d line(s) from %s extend beyond the 80th column\\\\n\",\\nx\\t    program, toolong, filename);\\nx\\tfprintf(stderr,\\nx\\t    \"%s:          this is ok, but it would be nice to avoid\\\\n\\\\n\",\\nx\\t    program);\\nx    }\\nx\\nx    /* note non-indented lines, if needed */\\nx    if (non_indent > 0) {\\nx\\tfprintf(stderr,\\nx\\t    \"%s: warning: %d line(s) from %s are not indented by 4 spaces\\\\n\",\\nx\\t    program, non_indent, filename);\\nx\\tfprintf(stderr,\\nx\\t    \"%s:          this is ok, but it would be nice to avoid\\\\n\\\\n\",\\nx\\t    program);\\nx    }\\nx\\nx    /* return the open file */\\nx    rewind(stream);\\nx    return(stream);\\nx}\\nx\\nx/*\\nx * open_build - open/check the build file\\nx *\\nx * the how to build file must not be longer than max_build_size bytes.\\nx *\\nx * this function returns null on i/o or size error.\\nx */\\nxfile *\\nxopen_build(filename)\\nx    char *filename;\\nx{\\nx    file *stream;\\t\\t/* the opened file stream */\\nx    struct stat statbuf;\\t/* the status of the open file */\\nx\\nx    /*\\nx     * open the how to build input file\\nx     */\\nx    stream = fopen(filename, \"r\");\\nx    if (stream == null) {\\nx\\tfprintf(stderr, \"%s: cannot open how to build file: %s: \",\\nx\\t    program, filename);\\nx\\tperror(\"\");\\nx\\treturn(null);\\nx    }\\nx\\nx    /*\\nx     * determine the size of the file\\nx     */\\nx    if (fstat(fileno(stream), &statbuf) < 0) {\\nx\\tfprintf(stderr, \"%s: cannot stat how to build file: %s: \",\\nx\\t    program, filename);\\nx\\tperror(\"\");\\nx\\treturn(null);\\nx    }\\nx    if (statbuf.st_size > max_build_size) {\\nx\\tfprintf(stderr,\\nx\\t    \"%s: fatal: the how to build file: %s, is %d bytes long\\\\n\",\\nx\\t    program, filename, statbuf.st_size);\\nx\\tfprintf(stderr,\\nx\\t    \"%s:        it may not be longer than %d bytes\\\\n\",\\nx\\t    program, max_build_size);\\nx\\treturn(null);\\nx    }\\nx\\nx    /* return the open file */\\nx    return(stream);\\nx}\\nx\\nx/*\\nx * open_program - open/check the program source file\\nx *\\nx * the program source file must be <= 3217 bytes.  the number of\\nx * non-whitespace and }{; chars not followed by whitespace must\\nx * be <= 1536 bytes.\\nx *\\nx * this function returns null on i/o or size error.\\nx */\\nxfile *\\nxopen_program(filename)\\nx    char *filename;\\nx{\\nx    file *stream;\\t\\t/* the opened file stream */\\nx    struct stat statbuf;\\t/* the status of the open file */\\nx    int count;\\t\\t\\t/* special count size */\\nx    int c;\\t\\t\\t/* the character read */\\nx\\nx    /*\\nx     * open the program source input file\\nx     */\\nx    stream = fopen(filename, \"r\");\\nx    if (stream == null) {\\nx\\tfprintf(stderr, \"%s: cannot open program source file: %s: \",\\nx\\t    program, filename);\\nx\\tperror(\"\");\\nx\\texit(7);\\nx    }\\nx\\nx    /*\\nx     * determine the size of the file\\nx     */\\nx    if (fstat(fileno(stream), &statbuf) < 0) {\\nx\\tfprintf(stderr, \"%s: cannot stat program source file: %s: \",\\nx\\t    program, filename);\\nx\\tperror(\"\");\\nx\\treturn(null);\\nx    }\\nx    if (statbuf.st_size > max_program_size) {\\nx\\tfprintf(stderr,\\nx\\t    \"%s: fatal: the program source file: %s, is %d bytes long\\\\n\",\\nx\\t    program, filename, statbuf.st_size);\\nx\\tfprintf(stderr,\\nx\\t    \"%s:        it may not be longer than %d bytes\\\\n\",\\nx\\t    program, max_program_size);\\nx\\treturn(null);\\nx    }\\nx\\nx    /*\\nx     * count the non-whitespace, non {}; followed by whitespace chars\\nx     */\\nx    count = 0;\\nx    c = 0;\\nx    while ((c=fgetc(stream)) != eof) {\\nx\\t/* look at non-whitespace */\\nx\\tif (!isascii(c) || !isspace(c)) {\\nx\\t    switch (c) {\\nx\\t    case \\'{\\':\\t\\t/* count if not followed by eof or whitespace */\\nx\\t    case \\'}\\':\\nx\\t    case \\';\\':\\nx\\t\\t/* peek at next char */\\nx\\t\\tc = fgetc(stream);\\nx\\t\\tif (c != eof && isascii(c) && !isspace(c)) {\\nx\\t\\t    /* not followed by whitespace or eof, count it */\\nx\\t\\t    ungetc(c, stream);\\nx\\t\\t    ++count;\\nx\\t\\t}\\nx\\t\\tbreak;\\nx\\t    default:\\nx\\t\\t++count;\\nx\\t\\tbreak;\\nx\\t    }\\nx\\t}\\nx    }\\nx\\nx    /* watch for i/o errors */\\nx    check_io(stream, filename, eof_ok);\\nx\\nx    /* look at the special size */\\nx    if (count > max_program_size2) {\\nx\\tfprintf(stderr,\\nx\\t    \"%s: fatal: the number of bytes that are non-whitespace, and\\\\n\",\\nx\\t    program);\\nx\\tfprintf(stderr,\\nx\\t    \"%s:        that are not \\'{\\', \\'}\\', \\';\\' followed by whitespace\\\\n\",\\nx\\t    program);\\nx\\tfprintf(stderr,\\nx\\t    \"%s:        or eof must be <= %d bytes\\\\n\",\\nx\\t    program, max_program_size2);\\nx\\tfprintf(stderr,\\nx\\t    \"%s:        in %s, %d bytes were found\\\\n\",\\nx\\t    program, filename, count);\\nx\\treturn(null);\\nx    }\\nx\\nx    /* return the open file */\\nx    rewind(stream);\\nx    return(stream);\\nx}\\nx\\nx/*\\nx * open_output - open/check the entry output file\\nx *\\nx * this function returns null on open error.\\nx */\\nxfile *\\nxopen_output(filename)\\nx    char *filename;\\nx{\\nx    file *stream;\\t\\t/* the opened file stream */\\nx\\nx    /*\\nx     * open the ioccc entry output file\\nx     */\\nx    stream = fopen(filename, \"w\");\\nx    if (stream == null) {\\nx\\tfprintf(stderr, \"%s: cannot open ioccc entry file for output: %s: \",\\nx\\t    program, filename);\\nx\\tperror(\"\");\\nx\\texit(8);\\nx    }\\nx\\nx    /* return the open file */\\nx    return(stream);\\nx}\\nx\\nx/*\\nx * output_entry - output the ---entry--- section\\nx *\\nx * read the needed information form stdin, and write the entry section.\\nx */\\nxvoid\\nxoutput_entry(output, oname)\\nx    file *output;\\t\\t/* entry\\'s output file stream */\\nx    char *oname;\\t\\t/* name of the output file */\\nx{\\nx    char title[max_title_len+1+1];\\t/* the entry\\'s title */\\nx    char buf[max_col+1+1];\\t\\t/* i/o buffer */\\nx    int entry=0;\\t\\t\\t/* entry number */\\nx    int ret;\\t\\t\\t\\t/* fields processed by fscanf */\\nx    int ok_line=0;\\t\\t\\t/* 0 => the line is not ok */\\nx    char skip;\\t\\t\\t\\t/* input to skip */\\nx    file *date_pipe;\\t\\t\\t/* pipe to a date command */\\nx    time_t epoch_sec;\\t\\t\\t/* seconds since the epoch */\\nx    char *p;\\nx\\nx    /*\\nx     * write the start of the section\\nx     */\\nx    fprintf(output, \"---entry---\\\\n\");\\nx    check_io(output, oname, eof_not_ok);\\nx\\nx    /*\\nx     * write the rule year\\nx     */\\nx    fprintf(output, \"rule:\\\\t%d\\\\n\", rule_year);\\nx    check_io(output, oname, eof_not_ok);\\nx\\nx    /* determine if this is a fix */\\nx    printf(\"is this a fix, update or resubmittion to a \");\\nx    printf(\"previous entry (enter y or n)? \");\\nx    while (get_line(buf, 1+1, 0) <= 0 || !(buf[0]==\\'y\\' || buf[0]==\\'n\\')) {\\nx\\tprintf(\"\\\\nplease answer y or n: \");\\nx    }\\nx    if (buf[0] == \\'y\\') {\\nx\\tfprintf(output, \"fix:\\\\ty\\\\n\");\\nx\\tcheck_io(output, oname, eof_not_ok);\\nx\\tprintf(\"\\\\nbe sure that the title and entry number that you give\\\\n\");\\nx\\tprintf(\"are the same of as the entry you are replacing\\\\n\");\\nx    } else {\\nx\\tfprintf(output, \"fix:\\\\tn\\\\n\");\\nx\\tcheck_io(output, oname, eof_not_ok);\\nx    }\\nx\\nx    /*\\nx     * write the title\\nx     */\\nx    printf(\"\\\\nyour title must match expression be a [a-za-z0-9_=] character\\\\n\");\\nx    printf(\"followed by 0 to %d more [a-za-z0-9_=+-] characters.\\\\n\\\\n\",\\nx\\tmax_title_len-1);\\nx    printf(\"it is suggested, but not required, that the title should\\\\n\");\\nx    printf(\"incorporate your username; in the\\\\n\");\\nx    printf(\"case of multiple authors, consider using parts of the usernames\\\\n\");\\nx    printf(\"of the authors.\\\\n\\\\n\");\\nx    printf(\"enter your title: \");\\nx    do {\\nx\\t/* prompt and read a line */\\nx\\tif ((ok_line = get_line(title, max_title_len+1, max_col-9)) <= 0) {\\nx\\t    printf(\"\\\\ntitle is too long, please re-enter: \");\\nx\\t    continue;\\nx\\t}\\nx\\nx\\t/* verify the pattern, not everyone has regexp, so do it by hand */\\nx\\tif (!isascii((int)title[0]) ||\\nx\\t    !(isalnum((int)title[0]) || title[0] == \\'_\\' || title[0] == \\'=\\')) {\\nx\\t    printf(\"\\\\ninvalid first character in the title\\\\n\\\\n\");\\nx\\t    printf(\"enter your title: \");\\nx\\t    ok_line = 0;\\nx\\t} else {\\nx\\t    for (p=(&title[1]); *p != \\'\\\\0\\' && *p != \\'\\\\n\\'; ++p) {\\nx\\t\\tif (!isascii((int)*p) ||\\nx\\t\\t    !(isalnum((int)*p) ||\\nx\\t\\t      *p == \\'_\\' || *p == \\'=\\' || *p == \\'+\\' || *p == \\'-\\')) {\\nx\\t\\t    printf(\"\\\\ninvalid character in the title\\\\n\\\\n\");\\nx\\t\\t    printf(\"enter your title: \");\\nx\\t\\t    ok_line = 0;\\nx\\t\\t}\\nx\\t    }\\nx\\t}\\nx    } while (ok_line <= 0);\\nx    fprintf(output, \"title:\\\\t%s\", title);\\nx    check_io(output, oname, eof_not_ok);\\nx\\nx    /*\\nx     * write the entry number\\nx     */\\nx    printf(\"\\\\neach person may submit up to %d entries per year.\\\\n\\\\n\",\\nx\\tmax_entry);\\nx    printf(\"enter an entry number from 0 to %d inclusive: \", max_entry-1);\\nx    do {\\nx\\t/* get a valid input line */\\nx\\tfflush(stdout);\\nx\\tret = fscanf(stdin, \"%d[\\\\n]\", &entry);\\nx\\tcheck_io(stdin, \"stdin\", eof_not_ok);\\nx\\t/* skip over input until newline is found */\\nx\\tdo {\\nx\\t    skip = fgetc(stdin);\\nx\\t    check_io(stdin, \"stdin\", eof_not_ok);\\nx\\t    if (skip != \\'\\\\n\\') {\\nx\\t\\t/* bad text in input, invalidate entry number */\\nx\\t\\tentry = -1;\\nx\\t    }\\nx\\t} while (skip != \\'\\\\n\\');\\nx\\nx\\t/* check if we have a number, and if it is in range */\\nx\\tif (ret != 1 || entry < 0 || entry > max_entry-1) {\\nx\\t    printf(\\nx\\t      \"\\\\nthe entry number must be between 0 and %d inclusive\\\\n\\\\n\",\\nx\\t\\tmax_entry-1);\\nx\\t    printf(\"enter the entry number: \");\\nx\\t}\\nx    } while (ret != 1 || entry < 0 || entry > max_entry-1);\\nx    fprintf(output, \"entry:\\\\t%d\\\\n\", entry);\\nx    check_io(output, oname, eof_not_ok);\\nx\\nx    /*\\nx     * write the submission date\\nx     */\\nx    /* returns a newline */\\nx    epoch_sec = time(null);\\nx    fprintf(output, \"date:\\\\t%s\", asctime(gmtime(&epoch_sec)));\\nx    check_io(output, oname, eof_not_ok);\\nx\\nx    /*\\nx     * write the os/machine host information\\nx     */\\nx    printf(\\nx      \"\\\\nenter the machine(s) and os(s) under which your entry was tested.\\\\n\");\\nx    output_till_dot(output, oname, \"host:\");\\nx}\\nx\\nx/*\\nx * output_remark - output the ---remark--- section\\nx *\\nx * read the needed information form stdin, and write the entry section.\\nx */\\nxvoid\\nxoutput_remark(output, oname, remark, rname)\\nx    file *output;\\t\\t/* entry\\'s output file stream */\\nx    char *oname;\\t\\t/* name of the output file */\\nx    file *remark;\\t\\t/* stream to the file containing remark text */\\nx    char *rname;\\t\\t/* name of the remark file */\\nx{\\nx    char buf[bufsiz+1];\\t\\t/* input/output buffer */\\nx\\nx    /*\\nx     * write the start of the section\\nx     */\\nx    fprintf(output, \"---remark---\\\\n\");\\nx    check_io(output, oname, eof_not_ok);\\nx\\nx    /*\\nx     * copy the remark file to the section\\nx     */\\nx    while (fgets(buf, bufsiz, remark) != null) {\\nx\\tfputs(buf, output);\\nx\\tcheck_io(output, oname, eof_not_ok);\\nx    }\\nx    check_io(remark, rname, eof_ok);\\nx\\nx    /* be sure that the remark section ends with a newline */\\nx    if (buf[strlen(buf)-1] != \\'\\\\n\\') {\\nx\\tfputc(\\'\\\\n\\', output);\\nx\\tcheck_io(output, oname, eof_not_ok);\\nx    }\\nx}\\nx\\nx/*\\nx * output_author - output the ---author--- section\\nx *\\nx * read the needed information from stdin, and write the author section.\\nx * if multiple authors exist, multiple author sections will be written.\\nx */\\nxvoid\\nxoutput_author(output, oname)\\nx    file *output;\\t\\t/* entry\\'s output file stream */\\nx    char *oname;\\t\\t/* name of the output file */\\nx{\\nx    char buf[max_col+1+1];\\t/* i/o buffer */\\nx    int more_auths;\\t\\t/* true => more authors to note */\\nx    int auth_cnt=0;\\t\\t/* number of authors processed */\\nx\\nx    /*\\nx     * prompt the user for the author section\\nx     */\\nx    printf(\"\\\\nenter information about each author.  if your entry is after\\\\n\");\\nx    printf(\"%s and before the contest deadline, the judges\\\\n\", start_date);\\nx    printf(\"will attempt to email back a confirmation to the first author\\\\n\");\\nx\\nx    /*\\nx     * place author information for each author in an individual section\\nx     */\\nx    do {\\nx\\nx\\t/* write the start of the section */\\nx\\tfprintf(output, \"---author---\\\\n\");\\nx\\tcheck_io(output, oname, eof_not_ok);\\nx\\nx\\t/* write the author */\\nx\\tprintf(\"\\\\nauthor #%d name: \", ++auth_cnt);\\nx\\twhile (get_line(buf, max_col+1, max_col-9) <= 0) {\\nx\\t    printf(\"\\\\nname too long, please re-enter: \");\\nx\\t}\\nx\\tfprintf(output, \"name:\\\\t%s\", buf);\\nx\\tcheck_io(output, oname, eof_not_ok);\\nx\\nx\\t/* write the organization */\\nx\\tprintf(\"\\\\nenter the school/company/organization of author #%d\\\\n\",\\nx\\t    auth_cnt);\\nx\\tprintf(\"\\\\nauthor #%d org: \", auth_cnt);\\nx\\twhile (get_line(buf, max_col+1, max_col-9) <= 0) {\\nx\\t    printf(\"\\\\nline too long, please re-enter: \");\\nx\\t}\\nx\\tfprintf(output, \"org:\\\\t%s\", buf);\\nx\\tcheck_io(output, oname, eof_not_ok);\\nx\\nx\\t/* write the address */\\nx\\tprintf(\\nx\\t    \"\\\\nenter the postal address for author #%d.  be sure to include\\\\n\",\\nx\\t    auth_cnt);\\nx\\tprintf(\"your country and do not include your name.\\\\n\");\\nx\\toutput_till_dot(output, oname, \"addr:\");\\nx\\nx\\t/* write the email address */\\nx\\tprintf(\\nx\\t    \"\\\\nenter the email address for author #%d.  use an address from\\\\n\",\\nx\\t    auth_cnt);\\nx\\tprintf(\\nx\\t    \"a registered domain or well known site.  if you give several\\\\n\");\\nx\\tprintf(\"forms, list them one per line.\\\\n\");\\nx\\toutput_till_dot(output, oname, \"email:\");\\nx\\nx\\t/* write the anonymous status */\\nx\\tprintf(\"\\\\nshould author #%d remain anonymous (enter y or n)? \",\\nx\\t    auth_cnt);\\nx\\twhile (get_line(buf, 1+1, 0) <= 0 || !(buf[0]==\\'y\\' || buf[0]==\\'n\\')) {\\nx\\t    printf(\"\\\\nplease answer y or n: \");\\nx\\t}\\nx\\tfprintf(output, \"anon:\\\\t%s\", buf);\\nx\\tcheck_io(output, oname, eof_not_ok);\\nx\\nx\\t/* determine if there is another author */\\nx\\tprintf(\"\\\\nis there another author (enter y or n)? \");\\nx\\twhile (get_line(buf, 1+1, 0) <= 0 || !(buf[0]==\\'y\\' || buf[0]==\\'n\\')) {\\nx\\t    printf(\"\\\\nplease answer y or n: \");\\nx\\t}\\nx\\tif (buf[0] == \\'y\\') {\\nx\\t    more_auths = true;\\nx\\t} else {\\nx\\t    more_auths = false;\\nx\\t}\\nx    } while (more_auths == true);\\nx    return;\\nx}\\nx\\nx/*\\nx * output_info - output the ---info--- section(s)\\nx *\\nx * read the needed information from stdin, and write the info section.\\nx * if multiple info files exist, multiple info sections will be written.\\nx */\\nxvoid\\nxoutput_info(output, oname)\\nx    file *output;\\t\\t/* entry\\'s output file stream */\\nx    char *oname;\\t\\t/* name of the output file */\\nx{\\nx    char infoname[max_file_len+1];\\t/* filename buffer */\\nx    char yorn[1+1];\\t\\t/* y or n answer */\\nx    char *uuname;\\t\\t/* name to uuencode as */\\nx    file *infile;\\t\\t/* info file stream */\\nx\\nx    /*\\nx     * prompt the user for info information\\nx     */\\nx    printf(\"\\\\ninfo files should be used only to supplement your entry.\\\\n\");\\nx    printf(\"for example, info files may provide sample input or detailed\\\\n\");\\nx    printf(\"information about your entry.  because they are supplemental,\\\\n\");\\nx    printf(\"the entry should not require them to exist.\\\\n\\\\n\");\\nx\\nx    /*\\nx     * while there is another info file to save, uuencode it\\nx     */\\nx    printf(\"do you have a info file to include (enter y or n)? \");\\nx    while (get_line(yorn, 1+1, 0) <= 0 || !(yorn[0]==\\'y\\' || yorn[0]==\\'n\\')) {\\nx\\tprintf(\"\\\\nplease answer y or n: \");\\nx    }\\nx    while (yorn[0] == \\'y\\') {\\nx\\nx\\t/* read the filename */\\nx\\tprintf(\"\\\\nenter the info filename: \");\\nx\\twhile (get_line(infoname, max_file_len+1, 0) <= 0) {\\nx\\t    printf(\"\\\\ninfo filename too long, please re-enter: \");\\nx\\t}\\nx\\nx\\t/* compute the basename of the info filename */\\nx\\t/* remove the trailing newline */\\nx\\tuuname = &infoname[strlen(infoname)-1];\\nx\\t*uuname = \\'\\\\0\\';\\nx\\t/* avoid rindex/shrrchr compat issues, do it by hand */\\nx\\tfor (--uuname; uuname > infoname; --uuname) {\\nx\\t    if (*uuname == \\'/\\') {\\nx\\t\\t++uuname;\\nx\\t\\tbreak;\\nx\\t    }\\nx\\t}\\nx\\nx\\t/* attempt to open the info file */\\nx\\tinfile = fopen(infoname, \"r\");\\nx\\tif (infile == null) {\\nx\\t    fprintf(stderr, \"\\\\n%s: cannot open info file: %s: \",\\nx\\t\\tprogram, infoname);\\nx\\t    perror(\"\");\\nx\\t    continue;\\nx\\t}\\nx\\nx\\t/*\\nx\\t * write the start of the section\\nx\\t */\\nx\\tfprintf(output, \"---info---\\\\n\");\\nx\\tcheck_io(output, oname, eof_not_ok);\\nx\\nx\\t/* uuencode the info file */\\nx\\tuuencode(output, oname, infile, infoname, uuinfo_mode, uuname);\\nx\\nx\\tprintf(\"\\\\ndo you have another info file to include (enter y or n)? \");\\nx\\twhile (get_line(yorn, 1+1, 0) <= 0 || !(yorn[0]==\\'y\\' || yorn[0]==\\'n\\')) {\\nx\\t    printf(\"\\\\nplease answer y or n: \");\\nx\\t}\\nx    };\\nx    return;\\nx}\\nx\\nx/*\\nx * output_build - output the ---build--- section\\nx *\\nx * read the needed information from stdin, and write the build section.\\nx */\\nxvoid\\nxoutput_build(output, oname, build, bname)\\nx    file *output;\\t\\t/* entry\\'s output file stream */\\nx    char *oname;\\t\\t/* name of the output file */\\nx    file *build;\\t\\t/* open build file stream */\\nx    char *bname;\\t\\t/* name of the build file */\\nx{\\nx    /*\\nx     * write the start of the section\\nx     */\\nx    fprintf(output, \"---build---\\\\n\");\\nx    check_io(output, oname, eof_not_ok);\\nx\\nx    /*\\nx     * uuencode the program file\\nx     */\\nx    uuencode(output, oname, build, bname, uubuild_mode, uubuild_name);\\nx    return;\\nx}\\nx\\nx/*\\nx * output_program - output the ---program--- section\\nx *\\nx * read the needed information form stdin, and write the program section.\\nx */\\nxvoid\\nxoutput_program(output, oname, prog, pname)\\nx    file *output;\\t\\t/* entry\\'s output file stream */\\nx    char *oname;\\t\\t/* name of the output file */\\nx    file *prog;\\t\\t\\t/* open program stream */\\nx    char *pname;\\t\\t/* name of program file */\\nx{\\nx    /*\\nx     * write the start of the section\\nx     */\\nx    fprintf(output, \"---program---\\\\n\");\\nx    check_io(output, oname, eof_not_ok);\\nx\\nx    /*\\nx     * uuencode the program file\\nx     */\\nx    uuencode(output, oname, prog, pname, uuprog_mode, uuprog_name);\\nx    return;\\nx}\\nx\\nx/*\\nx * output_end - output the ---end--- section\\nx *\\nx * read the needed information form stdin, and write the \\'end section\\'.\\nx */\\nxvoid\\nxoutput_end(output, oname)\\nx    file *output;\\t\\t/* entry\\'s output file stream */\\nx    char *oname;\\t\\t/* name of the output file */\\nx{\\nx    /*\\nx     * write the final section terminator\\nx     */\\nx    fprintf(output, \"---end---\\\\n\");\\nx    check_io(output, oname, eof_not_ok);\\nx    return;\\nx}\\nx\\nx/*\\nx * get_line - get an answer from stdin\\nx *\\nx * this function will flush stdout, in case a prompt is pending, and\\nx * read in the answer.\\nx *\\nx * this function returns 0 if the line is too long, of the length of the\\nx * line (including the newline) of the line was ok.  this function does\\nx * not return if error or eof.\\nx */\\nxint\\nxget_line(buf, siz, maxcol)\\nx    char *buf;\\t\\t\\t/* input buffer */\\nx    int siz;\\t\\t\\t/* length of input, including the newline */\\nx    int maxcol;\\t\\t\\t/* max col allowed, 0 => disable check */\\nx{\\nx    int length;\\t\\t\\t/* the length of the input line */\\nx\\nx    /* flush terminal output */\\nx    fflush(stdout);\\nx\\nx    /* read the line */\\nx    if (fgets(buf, siz+1, stdin) == null) {\\nx\\t/* report the problem */\\nx\\tcheck_io(stdin, \"stdin\", eof_not_ok);\\nx    }\\nx\\nx    /* look for the newline */\\nx    length = strlen(buf);\\nx    if (buf[length-1] != \\'\\\\n\\') {\\nx\\tint eatchar;\\t\\t/* the char being eaten */\\nx\\nx\\t/* no newline found, line must be too long, eat the rest of the line */\\nx\\tdo {\\nx\\t    eatchar = fgetc(stdin);\\nx\\t} while (eatchar != eof && eatchar != \\'\\\\n\\');\\nx\\tcheck_io(stdin, \"stdin\", eof_not_ok);\\nx\\nx\\t/* report the situation */\\nx\\treturn 0;\\nx    }\\nx\\nx    /* watch for long lines, if needed */\\nx    if (maxcol > 0 && (length > maxcol || col_len(buf) > maxcol)) {\\nx\\t/* report the situation */\\nx\\treturn 0;\\nx    }\\nx\\nx    /* return length */\\nx    return length;\\nx}\\nx\\nx/*\\nx * output_till_dot - output a set of lines until \\'.\\' by itself is read\\nx *\\nx * this routine will read a set of lines until (but not including)\\nx * a single line with \\'.\\' is read.  the format of the output is:\\nx *\\nx *\\tleader:\\\\tfirst line\\nx *\\t\\\\tnext line\\nx *\\t\\\\tnext line\\nx *\\t   ...\\nx *\\nx * this routine will not return if i/o error or eof.\\nx */\\nxvoid\\nxoutput_till_dot(output, oname, leader)\\nx    file *output;\\t\\t/* entry\\'s output file stream */\\nx    char *oname;\\t\\t/* name of the output file */\\nx    char *leader;\\t\\t/* the lead text for the first line */\\nx{\\nx    char buf[bufsiz+1];\\t\\t/* input buffer */\\nx    int count;\\t\\t\\t/* lines read */\\nx    int done=false;\\t\\t/* true => finished reading input */\\nx\\nx    /* instruct the user on how to input */\\nx    printf(\"\\\\nto end input, enter a line with a single period.\\\\n\");\\nx\\nx    /* read lines until \\'.\\' or eof */\\nx    count = 0;\\nx    while (!done) {\\nx\\t/* issue the prompt */\\nx\\tprintf(\"%s\\\\t\", (count>0) ? \"\" : leader);\\nx\\tfflush(stdout);\\nx\\nx\\t/* get the line */\\nx\\tif (get_line(buf, bufsiz, max_col-9) <= 0) {\\nx\\t    printf(\"\\\\nline too long, please re-enter:\\\\n\\\\t\");\\nx\\t    continue;\\nx\\t}\\nx\\nx\\t/* note if \\'.\\' was read */\\nx\\tif (strcmp(buf, \".\\\\n\") == 0) {\\nx\\t    done = true;\\nx\\t}\\nx\\nx\\t/* write line if we read something */\\nx\\tif (!done) {\\nx\\t    fprintf(output, \"%s\\\\t%s\", (count++>0) ? \"\" : leader, buf);\\nx\\t    check_io(output, oname, eof_not_ok);\\nx\\t}\\nx    }\\nx\\nx    /* if no lines read, at least output something */\\nx    if (count <= 0) {\\nx\\tfprintf(output, \"%s\\\\t.\\\\n\", leader);\\nx\\tcheck_io(output, oname, eof_not_ok);\\nx    }\\nx    return;\\nx}\\nx\\nx/*\\nx * col_len - determine the highest that a string would reach\\nx *\\nx * given a string, this routine returns that a string would reach\\nx * if the string were printed at column 1.  tab stops are assumed\\nx * to start at 9, 17, 25, 33, ...\\nx */\\nxint\\nxcol_len(string)\\nx    char *string;\\t\\t/* the string to examine */\\nx{\\nx    int col;\\t/* current column */\\nx    char *p;\\t/* current char */\\nx\\nx    /* scan the string */\\nx    for (col=0, p=string; *p != \\'\\\\0\\' && *p != \\'\\\\n\\'; ++p) {\\nx\\t/* note the column shift */\\nx\\tcol = (*p==\\'\\\\t\\') ? 1+((col+8)/8*8) : col+1;\\nx    }\\nx    if (*p == \\'\\\\n\\') {\\nx\\t--col;\\nx    }\\nx\\nx    /* return the highest column */\\nx    return col;\\nx}\\nx\\nx/*\\nx * check_io - check for eof or i/o error on a stream\\nx *\\nx * does not return if eof or i/o error.\\nx */\\nxvoid\\nxcheck_io(stream, name, eof_ok)\\nx    file *stream;\\t\\t/* the stream to check */\\nx    char *name;\\t\\t\\t/* the name of this stream */\\nx    int eof_ok;\\t\\t\\t/* eof_ok or eof_not_ok */\\nx{\\nx    /* test for i/o error */\\nx    if (ferror(stream)) {\\nx\\tfprintf(stderr, \"%s: error on %s: \", program, name);\\nx\\tperror(\"\");\\nx\\texit(1);\\nx\\nx    /* test for eof */\\nx    } else if (eof_ok == eof_not_ok && feof(stream)) {\\nx\\tfprintf(stderr, \"%s: eof on %s\\\\n\", program, name);\\nx\\texit(1);\\nx    }\\nx    return;\\nx}\\nx\\nx/*\\nx * uuencode - uuencode a file\\nx *\\nx * perform the uuencoding process identical to the process performed\\nx * by the uuencode(1) utility.\\nx *\\nx * this routine implements the algorithm described in the uuencode(5)\\nx * 4.3bsd reno man page.\\nx */\\nxvoid\\nxuuencode(output, oname, infile, iname, umode, uname)\\nx    file *output;\\t\\t/* output file stream */\\nx    char *oname;\\t\\t/* output filename */\\nx    file *infile;\\t\\t/* input file stream */\\nx    char *iname;\\t\\t/* input filename */\\nx    int umode;\\t\\t\\t/* the mode to put on the uuencode file */\\nx    char *uname;\\t\\t/* name to put on the uuencode file */\\nx{\\nx    char buf[uuencode_len+1];\\t/* the uuencode buffer */\\nx    int read_len;\\t\\t/* actual number of chars read */\\nx    int val;\\t\\t\\t/* 6 bit chunk from buf */\\nx    char filler=\\'\\\\0\\';\\t\\t/* filler uuencode pad text */\\nx    char *p;\\nx\\nx    /*\\nx     * output the initial uuencode header\\nx     */\\nx    fprintf(output, \"begin %o %s\\\\n\", umode, uname);\\nx    check_io(output, oname, eof_not_ok);\\nx\\nx    /*\\nx     * clear out the input buffer\\nx     */\\nx    for (p=buf; p < &buf[sizeof(buf)/sizeof(buf[0])]; ++p) {\\nx\\t*p = \\'\\\\0\\';\\nx    }\\nx\\nx    /*\\nx     * we will process uuencode_len chars at a time, forming\\nx     * a single output line each time.\\nx     */\\nx    while ((read_len=fread(buf,sizeof(buf[0]),uuencode_len,infile)) > 0) {\\nx\\nx\\t/*\\nx\\t * the first character is the length character\\nx\\t */\\nx\\tfputc(uuencode(read_len), output);\\nx\\tcheck_io(output, oname, eof_not_ok);\\nx\\nx\\t/*\\nx\\t * we will convert 24 bits at a time.  thus we will convert\\nx\\t * 3 sets of 8 bits into 4 sets of uuencoded 6 bits.\\nx\\t */\\nx\\tfor (p=buf; read_len>0; read_len-=3, p+=3) {\\nx\\nx\\t    /* bits 0 to 5 */\\nx\\t    val = (p[0]>>2)&0x3f;\\nx\\t    fputc(uuencode(val), output);\\nx\\t    check_io(output, oname, eof_not_ok);\\nx\\nx\\t    /* bits 6 to 11 */\\nx\\t    val = ((p[0]<<4)&0x30) | ((p[1]>>4)&0x0f);\\nx\\t    fputc(uuencode(val), output);\\nx\\t    check_io(output, oname, eof_not_ok);\\nx\\nx\\t    /* bits 12 to 17 */\\nx\\t    val = ((p[1]<<2)&0x3c) | ((p[2]>>6)&0x03);\\nx\\t    fputc(uuencode(val), output);\\nx\\t    check_io(output, oname, eof_not_ok);\\nx\\nx\\t    /* bits 18 to 23 */\\nx\\t    val = p[2]&0x3f;\\nx\\t    fputc(uuencode(val), output);\\nx\\t    check_io(output, oname, eof_not_ok);\\nx\\t}\\nx\\nx\\t/* end of uuencode_len line */\\nx\\tfputc(\\'\\\\n\\', output);\\nx\\tcheck_io(output, oname, eof_not_ok);\\nx\\nx\\t/*\\nx\\t * clear out the input buffer  (don\\'t depend on bzero() or memset())\\nx\\t */\\nx\\tfor (p=buf; p < &buf[sizeof(buf)/sizeof(buf[0])]; ++p) {\\nx\\t    *p = \\'\\\\0\\';\\nx\\t}\\nx    }\\nx\\nx    /* check the last read on the input file */\\nx    check_io(infile, iname, eof_ok);\\nx\\nx    /* write end of uuencode file */\\nx    fprintf(output, \"%c\\\\nend\\\\n\", uuencode(filler));\\nx    check_io(output, oname, eof_not_ok);\\nx}\\nshar_eof\\nchmod 0444 mkentry.c ||\\necho \"restore of mkentry.c failed\"\\nset `wc -c mkentry.c`;wc_c=$1\\nif test \"$wc_c\" != \"34482\"; then\\n\\techo original size 34482, current size $wc_c\\nfi\\n# ============= obfuscate.info ==============\\necho \"x - extracting obfuscate.info (text)\"\\nsed \\'s/^x//\\' << \\'shar_eof\\' > obfuscate.info &&\\nx1993 obfuscated contest information\\nx\\nxcopyright (c) landon curt noll & larry bassel, 1993.\\nxall rights reserved.  permission for personal, education or non-profit use is\\nxgranted provided this this copyright and notice are included in its entirety\\nxand remains unaltered.  all other uses must receive prior permission in writing\\nxfrom both landon curt noll and larry bassel.\\nx\\nxthe international obfuscated c code contest (ioccc), in the sprit of\\nxco-operation, is willing mention other programming contents, as space\\nxpermits.\\nx\\nxhow to have your contest included in this file:\\nx\\nx    if you wish the ioccc judges to include your contest in this file,\\nx    send a request to:\\nx\\nx\\tjudges@toad.com\\nx\\nx    we request that contest descriptions be limited to 50 lines and to\\nx    not exceed 2500 bytes.  we typically request that your contest\\nx    include a current description of the ioccc.\\nx\\nx    in order to be included in this file for given year, we must\\nx    receive a current description no earlier than jan 1 00:00:00 utc and\\nx    no later than feb 15 00:00:00 utc.  agreement to publish your\\nx    contest must also be obtained prior to feb 15.  annual contests\\nx    that fail to submit a new entry will be dropped from this file.\\nx\\nxofficial disclaimer:  (pardon the officialese)\\nx\\nx    the contents noted below, other than the ioccc, are not affiliated\\nx    with the ioccc, nor are they endorsed by the ioccc.  we reserve the\\nx    right to refuse to print information about a given contest.\\nx\\nx    the information below was provided by the particular contest\\nx    organizer(s) and printed by permission.  please contact the\\nx    contest organizer(s) directly regarding their contents.\\nx\\nxwith that official notice given, we present for your enjoyment, the following\\nxinformation about contents:\\nx\\nx---------------------------------------------------------------------------\\nx\\nx    10th international obfuscated c contest\\nx\\nx\\t\"the original obfuscated contest\"\\nx\\nx    obfuscate:  tr.v.  -cated, -cating, -cates.  1. a.  to render obscure.\\nx                b.  to darken.  2. to confuse:  their emotions obfuscated\\nx\\t\\ttheir judgment.  [llat. obfuscare, to darken : ob(intensive) +\\nx                lat. fuscare, to darken < fuscus, dark.] -obfuscation n.\\nx                obfuscatory adj.\\nx\\nx    goals of the contest:\\nx\\nx        * to write the most obscure/obfuscated c program under the rules below.\\nx        * to show the importance of programming style, in an ironic way.\\nx        * to stress c compilers with unusual code.\\nx        * to illustrate some of the subtleties of the c language.\\nx        * to provide a safe forum for poor c code.  :-)\\nx\\nx    the ioccc is the grandfather of usenet programming contests.  since\\nx    1984, this contest demonstrated that a program that simply works\\nx    correctly is not sufficient.  the ioccc has also done much to add\\nx    the arcane word \\'obfuscated\\' back into the english language.\\nx    (see \"the new hacker\\'s dictionary\" by eric raymond)\\nx\\nx    you are strongly encouraged to read the new contest rules before\\nx    sending any entries.  the rules, and sometimes the contest email\\nx    address itself, change over time.  a valid entry one year may\\nx    be rejected in a later year due to changes in the rules.  the typical\\nx    start date for contests is in early march.  contest rules are normally not\\nx    finalized and posted until the beginning of the contest.  the typical\\nx    closing date for contests are in early may.\\nx\\nx    the rules and the guidelines may (and often do) change from year to\\nx    year.  you should be sure you have the current rules and guidelines\\nx    prior to submitting entries.  to obtain them, send email to the address\\nx    above and use the subject \\'send rules\\'.\\nx\\nx    one may obtain winners of previous contests (1984 to date), via ftp from:\\nx\\nx\\thost: ftp.uu.net\\t(192.48.96.9)\\nx\\tuser: anonymous\\nx\\tpass: yourname@yourhost\\nx\\tdir:  ~/pub/ioccc\\nx\\nx    as a last resort, previous winners may be obtained by sending email\\nx    to the above address.  please use the subject \\'send year winners\\',\\nx    where year is a single 4 digit year, a year range, or \\'all\\'.\\nx\\nx---------------------------------------------------------------------------\\nx\\nx    0th international obfuscated perl contest\\nx\\tby: landon noll & larry wall\\nx\\nx    this content is being planned.  someday when landon & larry are not too\\nx    busy, they will actually get around to posting the first set of rules!\\nx\\nx\\t\\t  but other existing projects got in the way.  hopefully\\nx\\t\\t  something will be developed after nov 1993.\"\\nx\\nx---------------------------------------------------------------------------\\nx\\nx                2nd international obfuscated postscript contest\\nx                     jonathan monsarrat (jgm@cs.brown.edu)\\nx                         alena lacova (alena@nikhef.nl)\\nx\\nx    a  contest of  programming skills  and  knowledge, exclusively  for the\\nx    postscript programming language. its purpose:\\nx\\nx    * to spread knowledge of postscript and its details.\\nx    * to applaud those with the best tricks.\\nx    * to prove  that humans can  beat those damnable  machine generators at\\nx      their own game by writing  the most obscure and mysterious postscript\\nx      programs ever.\\nx\\nx    winners will receive the fame and attention that goes with having their\\nx    program entry posted as a winner to programmers world-wide.\\nx\\nx    the 1993 contest rules and results are available by ftp as\\nx    ``wilma.cs.brown.edu:pub/postscript/obfuscated*.shar\\'\\', or individually\\nx    in the obfuscated directory. the judges will post the 1994 rules\\nx    in november to comp.lang.postscript on usenet, and other places.\\nx    send questions to jgm@cs.brown.edu.\\nx\\nx    categories include: best obfuscated postscript, best artwork,\\nx    most compact, best interactive program, most useful, and\\nx    anything so unusual and creative that it deserves an award.\\nx\\nx    the judges will choose the winners of each category.\\nx\\nx    alena lacova  is a system  administrator at nikhef  (institute for high\\nx    energy and nuclear  physics) in the  netherlands. she is  the author of\\nx    the postscript chaos  programs, which draw  julia sets, mandelbrot sets\\nx    and other kinds of fractal functions.\\nx\\nx    jonathan monsarrat is a graduate  student from mit and brown university\\nx    in  the  u.s.a. he  is  the  faq maintainer  for  the  usenet newsgroup\\nx    comp.lang.postscript and the author of the postscript zone and lametex.\\nx .\\nx\\nshar_eof\\nchmod 0444 obfuscate.info ||\\necho \"restore of obfuscate.info failed\"\\nset `wc -c obfuscate.info`;wc_c=$1\\nif test \"$wc_c\" != \"6418\"; then\\n\\techo original size 6418, current size $wc_c\\nfi\\nexit 0'"
            ],
            "application/vnd.google.colaboratory.intrinsic+json": {
              "type": "string"
            }
          },
          "metadata": {},
          "execution_count": 14
        }
      ]
    },
    {
      "cell_type": "markdown",
      "source": [
        "TOKENIZING "
      ],
      "metadata": {
        "id": "pAPZUKsv4XF6"
      }
    },
    {
      "cell_type": "code",
      "source": [
        "# Convert each document into a set of tokens instead of a single long string\n",
        "\n",
        "religion_sample = train_sample.iloc[1][\"text\"]\n",
        "religion_sample"
      ],
      "metadata": {
        "colab": {
          "base_uri": "https://localhost:8080/",
          "height": 123
        },
        "id": "rx6Crv5J4T_g",
        "outputId": "1edf7b06-4976-4e8f-c9f5-356990ea19f4"
      },
      "execution_count": 16,
      "outputs": [
        {
          "output_type": "execute_result",
          "data": {
            "text/plain": [
              "'\\nanother dodge.  oh well.  i\\'m no match for your amazing repertoire\\nof red herrings and smoke screens.  \\n\\nyou asked for an apology.  i\\'m not going to apologize for pointing out\\nthat your straw-man argument was a straw-man argument.  nor for saying\\nthat your list of \"bible contradictions\" shows such low standards of\\nscholarship that it should be an embarrassment to anti-inerrantists,\\njust as josh mcdowell should be an embarrassment to the fundies.  nor\\nfor objecting various times to your taking quotes out of context.  nor\\nfor pointing out that \"they do it too\" is not an excuse. nor for calling\\nyour red herrings and smoke screens what they are.\\n\\ni\\'m still not sure why you think i\\'m a hypocrite.  it\\'s true that i\\nhaven\\'t responded to any of robert weiss\\' articles, which may be due in\\npart to the fact that i almost never read his articles.  but i have\\nresponded to both you and frank decenso (a fundie/inerrantist.)  both\\nyou and frank have taken quotes out of context, and i\\'ve objected to\\nboth of you doing so.  i\\'ve criticized bad arguments both when they\\nwere yours and i agreed with the conclusion (that the bible is not\\ninerrant), and when they were frank\\'s and i disagreed with the\\nconclusion.  i\\'ve criticized both you and frank for evading questions,\\nand for trying to \"explain me away\" without addressing the objections\\ni raise (you by accusing me of being hypocritical and irrational, frank\\nby accusing me of being motivated by a desire to attack the bible.) i\\ndon\\'t see that any of this is hypocritical, nor do i apologize for it.\\n\\ni do apologize, however, for having offended you in any other way.\\n\\nhappy now?'"
            ],
            "application/vnd.google.colaboratory.intrinsic+json": {
              "type": "string"
            }
          },
          "metadata": {},
          "execution_count": 16
        }
      ]
    },
    {
      "cell_type": "code",
      "source": [
        "# Split this into tokens using the .split method\n",
        "\n",
        "religion_sample.split()[:10]"
      ],
      "metadata": {
        "colab": {
          "base_uri": "https://localhost:8080/"
        },
        "id": "2IB-wdeU47Po",
        "outputId": "7b1cce43-39e6-4e62-a10d-cb723f765b6b"
      },
      "execution_count": 17,
      "outputs": [
        {
          "output_type": "execute_result",
          "data": {
            "text/plain": [
              "['another',\n",
              " 'dodge.',\n",
              " 'oh',\n",
              " 'well.',\n",
              " \"i'm\",\n",
              " 'no',\n",
              " 'match',\n",
              " 'for',\n",
              " 'your',\n",
              " 'amazing']"
            ]
          },
          "metadata": {},
          "execution_count": 17
        }
      ]
    },
    {
      "cell_type": "markdown",
      "source": [
        "We need to remove the punctuation since when it is attached to a word it becomes a problem. To get the same instance of the same token, we will use the default token pattern in scikit-learn. "
      ],
      "metadata": {
        "id": "RgsW8p4y5P9D"
      }
    },
    {
      "cell_type": "code",
      "source": [
        "# The default token pattern used in scikit-learn vectorizers\n",
        "# The RegEX will be\n",
        "\n",
        "import re\n",
        "pattern = r'(?u)\\b\\w\\w+\\b'\n",
        "\n"
      ],
      "metadata": {
        "id": "5xIGprTL5nGi"
      },
      "execution_count": 21,
      "outputs": []
    },
    {
      "cell_type": "code",
      "source": [
        "# Uining RegexpTokenizer from NLTK to create tokens\n",
        "# We will transform the religion sample \n",
        "\n",
        "\n",
        "from nltk.tokenize import RegexpTokenizer\n",
        "\n",
        "basic_token_pattern = r\"(?u)\\b\\w\\w+\\b\"\n",
        "\n",
        "tokenizer = RegexpTokenizer(basic_token_pattern)\n",
        "tokenizer.tokenize(religion_sample)[:10]"
      ],
      "metadata": {
        "colab": {
          "base_uri": "https://localhost:8080/"
        },
        "id": "Nz-meZy96UhG",
        "outputId": "bc6d8a79-e89a-44ad-e62a-8c3d3f814bee"
      },
      "execution_count": 22,
      "outputs": [
        {
          "output_type": "execute_result",
          "data": {
            "text/plain": [
              "['another',\n",
              " 'dodge',\n",
              " 'oh',\n",
              " 'well',\n",
              " 'no',\n",
              " 'match',\n",
              " 'for',\n",
              " 'your',\n",
              " 'amazing',\n",
              " 'repertoire']"
            ]
          },
          "metadata": {},
          "execution_count": 22
        }
      ]
    },
    {
      "cell_type": "code",
      "source": [
        "# To tokenize all the values present in the column\n",
        "# We will use a pandas dataframe .apply then pass tokenizer.tokenizer\n",
        "\n",
        "\n",
        "# To create new column with tokenized data\n",
        "train_sample[\"text_tokenized\"] = train_sample[\"text\"].apply(tokenizer.tokenize)\n",
        "# Then display full text\n",
        "train_sample.style.set_properties(**{'text-align': 'left'})"
      ],
      "metadata": {
        "colab": {
          "base_uri": "https://localhost:8080/",
          "height": 1000
        },
        "id": "nK-jED2F6q4x",
        "outputId": "2b8f7c20-30c7-4ebe-96df-3f18fe61257a"
      },
      "execution_count": 23,
      "outputs": [
        {
          "output_type": "execute_result",
          "data": {
            "text/plain": [
              "<pandas.io.formats.style.Styler at 0x7f476b9f8e50>"
            ],
            "text/html": [
              "<style type=\"text/css\">\n",
              "#T_dcec5_row0_col0, #T_dcec5_row0_col1, #T_dcec5_row0_col2, #T_dcec5_row1_col0, #T_dcec5_row1_col1, #T_dcec5_row1_col2, #T_dcec5_row2_col0, #T_dcec5_row2_col1, #T_dcec5_row2_col2, #T_dcec5_row3_col0, #T_dcec5_row3_col1, #T_dcec5_row3_col2, #T_dcec5_row4_col0, #T_dcec5_row4_col1, #T_dcec5_row4_col2 {\n",
              "  text-align: left;\n",
              "}\n",
              "</style>\n",
              "<table id=\"T_dcec5\" class=\"dataframe\">\n",
              "  <thead>\n",
              "    <tr>\n",
              "      <th class=\"blank level0\" >&nbsp;</th>\n",
              "      <th id=\"T_dcec5_level0_col0\" class=\"col_heading level0 col0\" >text</th>\n",
              "      <th id=\"T_dcec5_level0_col1\" class=\"col_heading level0 col1\" >label</th>\n",
              "      <th id=\"T_dcec5_level0_col2\" class=\"col_heading level0 col2\" >text_tokenized</th>\n",
              "    </tr>\n",
              "  </thead>\n",
              "  <tbody>\n",
              "    <tr>\n",
              "      <th id=\"T_dcec5_level0_row0\" class=\"row_heading level0 row0\" >973</th>\n",
              "      <td id=\"T_dcec5_row0_col0\" class=\"data row0 col0\" >\n",
              "  > hey guys!\n",
              "  > i work on many stations and would like this name and current logname\n",
              "  > to be in a title of xterm when it's open and a machine name only\n",
              "  > when it's closed. in other words, i want $host and $logname to appear\n",
              "  > as a title of opened xterm and $host when xterm is closed.\n",
              "  > how can i do it?\n",
              "\n",
              "[apologies if i'm answering something already answered in the faq.\n",
              "our news feed has been losing a lot of articles lately - so i haven't\n",
              "seen the faq lately to check.]\n",
              "\n",
              "\n",
              "two ways:\n",
              " \n",
              " 1) when you start the xterm, you can use command line options:\n",
              "         -n icon_name           to set the icon label\n",
              "         -t window_title        to set the window title\n",
              "         -title window_title    equivalent to -t window_title\n",
              "\n",
              " 2) you can use escape sequences to change things on the fly:\n",
              "\n",
              "    the basic escape sequence is:\n",
              "\tesc ] <p> ; <some_arbitary_text> bel\n",
              "\n",
              "    where esc and bel are the ascii escape and bell characters,\n",
              "    <p> is an ascii decimal digit -- '2', '1', or '0', depending\n",
              "    on whether you are trying to set the window or icon title,\n",
              "    or both, and <some_arbitary_text> is your desired label string.\n",
              "\n",
              "    hence, this command will set the window & icon title:\n",
              "         echo \"\\033]0;your_title_goes_here\\007\\c\" \n",
              "\n",
              "    to set just the icon title:\n",
              "         echo \"\\033]1;your_title_goes_here\\007\\c\" \n",
              "\n",
              "    to set just the window title:\n",
              "         echo \"\\033]2;your_title_goes_here\\007\\c\" \n",
              "\n",
              "    of course, you may have to fiddle with exact syntax,\n",
              "    depending on how the echo command works on your system\n",
              "    and what shell you are using (i've shown system-v semantics\n",
              "    under bourne or korn shells).\n",
              "\n",
              "    [hint for sun os users:  use /usr/5bin/echo instead of\n",
              "    /bin/echo or csh's built-in echo.  otherwise you'll have\n",
              "    to embed literal esc and bel characters in the string\n",
              "    instead of using convenient octal sequences.]\n",
              "\n",
              "    if you want your titlebar updated continously, say to show\n",
              "    your current directory, hostname, or somesuch, then you'll\n",
              "    have to see if you can coerce your shell into spitting out\n",
              "    the appropriate escape sequences when it prompts for commands.\n",
              "    sometimes you can just put the appropriate escape sequence\n",
              "    in the prompt string itself, sometimes not ...\n",
              "</td>\n",
              "      <td id=\"T_dcec5_row0_col1\" class=\"data row0 col1\" >0</td>\n",
              "      <td id=\"T_dcec5_row0_col2\" class=\"data row0 col2\" >['hey', 'guys', 'work', 'on', 'many', 'stations', 'and', 'would', 'like', 'this', 'name', 'and', 'current', 'logname', 'to', 'be', 'in', 'title', 'of', 'xterm', 'when', 'it', 'open', 'and', 'machine', 'name', 'only', 'when', 'it', 'closed', 'in', 'other', 'words', 'want', 'host', 'and', 'logname', 'to', 'appear', 'as', 'title', 'of', 'opened', 'xterm', 'and', 'host', 'when', 'xterm', 'is', 'closed', 'how', 'can', 'do', 'it', 'apologies', 'if', 'answering', 'something', 'already', 'answered', 'in', 'the', 'faq', 'our', 'news', 'feed', 'has', 'been', 'losing', 'lot', 'of', 'articles', 'lately', 'so', 'haven', 'seen', 'the', 'faq', 'lately', 'to', 'check', 'two', 'ways', 'when', 'you', 'start', 'the', 'xterm', 'you', 'can', 'use', 'command', 'line', 'options', 'icon_name', 'to', 'set', 'the', 'icon', 'label', 'window_title', 'to', 'set', 'the', 'window', 'title', 'title', 'window_title', 'equivalent', 'to', 'window_title', 'you', 'can', 'use', 'escape', 'sequences', 'to', 'change', 'things', 'on', 'the', 'fly', 'the', 'basic', 'escape', 'sequence', 'is', 'esc', 'some_arbitary_text', 'bel', 'where', 'esc', 'and', 'bel', 'are', 'the', 'ascii', 'escape', 'and', 'bell', 'characters', 'is', 'an', 'ascii', 'decimal', 'digit', 'or', 'depending', 'on', 'whether', 'you', 'are', 'trying', 'to', 'set', 'the', 'window', 'or', 'icon', 'title', 'or', 'both', 'and', 'some_arbitary_text', 'is', 'your', 'desired', 'label', 'string', 'hence', 'this', 'command', 'will', 'set', 'the', 'window', 'icon', 'title', 'echo', '033', 'your_title_goes_here', '007', 'to', 'set', 'just', 'the', 'icon', 'title', 'echo', '033', 'your_title_goes_here', '007', 'to', 'set', 'just', 'the', 'window', 'title', 'echo', '033', 'your_title_goes_here', '007', 'of', 'course', 'you', 'may', 'have', 'to', 'fiddle', 'with', 'exact', 'syntax', 'depending', 'on', 'how', 'the', 'echo', 'command', 'works', 'on', 'your', 'system', 'and', 'what', 'shell', 'you', 'are', 'using', 've', 'shown', 'system', 'semantics', 'under', 'bourne', 'or', 'korn', 'shells', 'hint', 'for', 'sun', 'os', 'users', 'use', 'usr', '5bin', 'echo', 'instead', 'of', 'bin', 'echo', 'or', 'csh', 'built', 'in', 'echo', 'otherwise', 'you', 'll', 'have', 'to', 'embed', 'literal', 'esc', 'and', 'bel', 'characters', 'in', 'the', 'string', 'instead', 'of', 'using', 'convenient', 'octal', 'sequences', 'if', 'you', 'want', 'your', 'titlebar', 'updated', 'continously', 'say', 'to', 'show', 'your', 'current', 'directory', 'hostname', 'or', 'somesuch', 'then', 'you', 'll', 'have', 'to', 'see', 'if', 'you', 'can', 'coerce', 'your', 'shell', 'into', 'spitting', 'out', 'the', 'appropriate', 'escape', 'sequences', 'when', 'it', 'prompts', 'for', 'commands', 'sometimes', 'you', 'can', 'just', 'put', 'the', 'appropriate', 'escape', 'sequence', 'in', 'the', 'prompt', 'string', 'itself', 'sometimes', 'not']</td>\n",
              "    </tr>\n",
              "    <tr>\n",
              "      <th id=\"T_dcec5_level0_row1\" class=\"row_heading level0 row1\" >1333</th>\n",
              "      <td id=\"T_dcec5_row1_col0\" class=\"data row1 col0\" >\n",
              "another dodge.  oh well.  i'm no match for your amazing repertoire\n",
              "of red herrings and smoke screens.  \n",
              "\n",
              "you asked for an apology.  i'm not going to apologize for pointing out\n",
              "that your straw-man argument was a straw-man argument.  nor for saying\n",
              "that your list of \"bible contradictions\" shows such low standards of\n",
              "scholarship that it should be an embarrassment to anti-inerrantists,\n",
              "just as josh mcdowell should be an embarrassment to the fundies.  nor\n",
              "for objecting various times to your taking quotes out of context.  nor\n",
              "for pointing out that \"they do it too\" is not an excuse. nor for calling\n",
              "your red herrings and smoke screens what they are.\n",
              "\n",
              "i'm still not sure why you think i'm a hypocrite.  it's true that i\n",
              "haven't responded to any of robert weiss' articles, which may be due in\n",
              "part to the fact that i almost never read his articles.  but i have\n",
              "responded to both you and frank decenso (a fundie/inerrantist.)  both\n",
              "you and frank have taken quotes out of context, and i've objected to\n",
              "both of you doing so.  i've criticized bad arguments both when they\n",
              "were yours and i agreed with the conclusion (that the bible is not\n",
              "inerrant), and when they were frank's and i disagreed with the\n",
              "conclusion.  i've criticized both you and frank for evading questions,\n",
              "and for trying to \"explain me away\" without addressing the objections\n",
              "i raise (you by accusing me of being hypocritical and irrational, frank\n",
              "by accusing me of being motivated by a desire to attack the bible.) i\n",
              "don't see that any of this is hypocritical, nor do i apologize for it.\n",
              "\n",
              "i do apologize, however, for having offended you in any other way.\n",
              "\n",
              "happy now?</td>\n",
              "      <td id=\"T_dcec5_row1_col1\" class=\"data row1 col1\" >4</td>\n",
              "      <td id=\"T_dcec5_row1_col2\" class=\"data row1 col2\" >['another', 'dodge', 'oh', 'well', 'no', 'match', 'for', 'your', 'amazing', 'repertoire', 'of', 'red', 'herrings', 'and', 'smoke', 'screens', 'you', 'asked', 'for', 'an', 'apology', 'not', 'going', 'to', 'apologize', 'for', 'pointing', 'out', 'that', 'your', 'straw', 'man', 'argument', 'was', 'straw', 'man', 'argument', 'nor', 'for', 'saying', 'that', 'your', 'list', 'of', 'bible', 'contradictions', 'shows', 'such', 'low', 'standards', 'of', 'scholarship', 'that', 'it', 'should', 'be', 'an', 'embarrassment', 'to', 'anti', 'inerrantists', 'just', 'as', 'josh', 'mcdowell', 'should', 'be', 'an', 'embarrassment', 'to', 'the', 'fundies', 'nor', 'for', 'objecting', 'various', 'times', 'to', 'your', 'taking', 'quotes', 'out', 'of', 'context', 'nor', 'for', 'pointing', 'out', 'that', 'they', 'do', 'it', 'too', 'is', 'not', 'an', 'excuse', 'nor', 'for', 'calling', 'your', 'red', 'herrings', 'and', 'smoke', 'screens', 'what', 'they', 'are', 'still', 'not', 'sure', 'why', 'you', 'think', 'hypocrite', 'it', 'true', 'that', 'haven', 'responded', 'to', 'any', 'of', 'robert', 'weiss', 'articles', 'which', 'may', 'be', 'due', 'in', 'part', 'to', 'the', 'fact', 'that', 'almost', 'never', 'read', 'his', 'articles', 'but', 'have', 'responded', 'to', 'both', 'you', 'and', 'frank', 'decenso', 'fundie', 'inerrantist', 'both', 'you', 'and', 'frank', 'have', 'taken', 'quotes', 'out', 'of', 'context', 'and', 've', 'objected', 'to', 'both', 'of', 'you', 'doing', 'so', 've', 'criticized', 'bad', 'arguments', 'both', 'when', 'they', 'were', 'yours', 'and', 'agreed', 'with', 'the', 'conclusion', 'that', 'the', 'bible', 'is', 'not', 'inerrant', 'and', 'when', 'they', 'were', 'frank', 'and', 'disagreed', 'with', 'the', 'conclusion', 've', 'criticized', 'both', 'you', 'and', 'frank', 'for', 'evading', 'questions', 'and', 'for', 'trying', 'to', 'explain', 'me', 'away', 'without', 'addressing', 'the', 'objections', 'raise', 'you', 'by', 'accusing', 'me', 'of', 'being', 'hypocritical', 'and', 'irrational', 'frank', 'by', 'accusing', 'me', 'of', 'being', 'motivated', 'by', 'desire', 'to', 'attack', 'the', 'bible', 'don', 'see', 'that', 'any', 'of', 'this', 'is', 'hypocritical', 'nor', 'do', 'apologize', 'for', 'it', 'do', 'apologize', 'however', 'for', 'having', 'offended', 'you', 'in', 'any', 'other', 'way', 'happy', 'now']</td>\n",
              "    </tr>\n",
              "    <tr>\n",
              "      <th id=\"T_dcec5_level0_row2\" class=\"row_heading level0 row2\" >663</th>\n",
              "      <td id=\"T_dcec5_row2_col0\" class=\"data row2 col0\" >nhl results for games played 4/05/93.\n",
              "\n",
              "--------------------------------------------------------------------------------\n",
              "                                  standings\n",
              "      patrick              adams              norris              smythe\n",
              " tm    w  l  t  pt   tm    w  l  t  pt   tm    w  l  t  pt   tm    w  l  t  pt\n",
              " \n",
              "xpit  53 21  6 112  ymon  47 27  6 100  ydet  44 28  9  97  yvan  42 28  9  93\n",
              " was  40 31  7  87  ybos  46 26  7  99  ychi  43 25 11  97  ycal  40 29 10  90\n",
              " nj   38 35  6  82  yque  44 25 10  98  ytor  42 26 11  95  yla   37 33  9  83\n",
              " nyi  37 34  6  80  ybuf  38 31 10  86   stl  35 34 10  80  ywin  37 35  7  81\n",
              " nyr  34 33 11  79   har  24 49  5  53   min  34 35 10  78   edm  26 45  8  60\n",
              " phl  30 37 11  71   ott   9 66  4  22   tb   22 51  5  49   sj   10 68  2  22\n",
              "\n",
              "x - clinched division title\n",
              "y - clinched playoff berth\n",
              "\n",
              "--------------------------------------------------------------------------------\n",
              "\n",
              "hartford whalers   (24-49-5)   1   1   3   -   5\n",
              "new york rangers  (34-33-11)   1   2   1   -   4\n",
              "\n",
              "1st period: har, cunneyworth 5 - (janssens, greig) 12:21\n",
              "\t    nyr, graves 34 - (turcotte, zubov) 18:39\n",
              "\n",
              "2nd period: nyr, kovalev 19 - (turcotte, graves) 2:12\n",
              "\t    har, sanderson 44 - (cassels) (pp) 4:54\n",
              "\t    nyr, amonte 30 - (andersson, vanbiesbrouck) (pp) 19:13\n",
              "\n",
              "3rd period: nyr, m.messier 25 - (amonte, andersson) 2:26\n",
              "\t    har, sanderson 45 - (cassels) (sh) 5:23\n",
              "\t    har, nylanders 6 - (ladouceur) 8:35\n",
              "\t    har, verbeek 36 - (zalapski) 17:43\n",
              "\n",
              "powerplay opportunities-whalers 1 of 4\n",
              "\t\t\trangers 1 of 4\n",
              "\n",
              "shots on goal-\twhalers   7   8   8  -  23\n",
              "\t\trangers   9  10  12  -  31\n",
              "\n",
              "hartford whalers--gosselin (4-7-1) (31 shots - 27 saves)\n",
              "new york rangers--vanbiesbrouck (20-18-7) (23 shots - 18 saves)\n",
              "\n",
              "att-17,806\n",
              "\n",
              "--------------------------------------------------------------------------------\n",
              "</td>\n",
              "      <td id=\"T_dcec5_row2_col1\" class=\"data row2 col1\" >1</td>\n",
              "      <td id=\"T_dcec5_row2_col2\" class=\"data row2 col2\" >['nhl', 'results', 'for', 'games', 'played', '05', '93', 'standings', 'patrick', 'adams', 'norris', 'smythe', 'tm', 'pt', 'tm', 'pt', 'tm', 'pt', 'tm', 'pt', 'xpit', '53', '21', '112', 'ymon', '47', '27', '100', 'ydet', '44', '28', '97', 'yvan', '42', '28', '93', 'was', '40', '31', '87', 'ybos', '46', '26', '99', 'ychi', '43', '25', '11', '97', 'ycal', '40', '29', '10', '90', 'nj', '38', '35', '82', 'yque', '44', '25', '10', '98', 'ytor', '42', '26', '11', '95', 'yla', '37', '33', '83', 'nyi', '37', '34', '80', 'ybuf', '38', '31', '10', '86', 'stl', '35', '34', '10', '80', 'ywin', '37', '35', '81', 'nyr', '34', '33', '11', '79', 'har', '24', '49', '53', 'min', '34', '35', '10', '78', 'edm', '26', '45', '60', 'phl', '30', '37', '11', '71', 'ott', '66', '22', 'tb', '22', '51', '49', 'sj', '10', '68', '22', 'clinched', 'division', 'title', 'clinched', 'playoff', 'berth', 'hartford', 'whalers', '24', '49', 'new', 'york', 'rangers', '34', '33', '11', '1st', 'period', 'har', 'cunneyworth', 'janssens', 'greig', '12', '21', 'nyr', 'graves', '34', 'turcotte', 'zubov', '18', '39', '2nd', 'period', 'nyr', 'kovalev', '19', 'turcotte', 'graves', '12', 'har', 'sanderson', '44', 'cassels', 'pp', '54', 'nyr', 'amonte', '30', 'andersson', 'vanbiesbrouck', 'pp', '19', '13', '3rd', 'period', 'nyr', 'messier', '25', 'amonte', 'andersson', '26', 'har', 'sanderson', '45', 'cassels', 'sh', '23', 'har', 'nylanders', 'ladouceur', '35', 'har', 'verbeek', '36', 'zalapski', '17', '43', 'powerplay', 'opportunities', 'whalers', 'of', 'rangers', 'of', 'shots', 'on', 'goal', 'whalers', '23', 'rangers', '10', '12', '31', 'hartford', 'whalers', 'gosselin', '31', 'shots', '27', 'saves', 'new', 'york', 'rangers', 'vanbiesbrouck', '20', '18', '23', 'shots', '18', 'saves', 'att', '17', '806']</td>\n",
              "    </tr>\n",
              "    <tr>\n",
              "      <th id=\"T_dcec5_level0_row3\" class=\"row_heading level0 row3\" >1659</th>\n",
              "      <td id=\"T_dcec5_row3_col0\" class=\"data row3 col0\" >hi, \n",
              "\n",
              "i'm trying to write a motif program on an interactive unix machine, and i'm\n",
              "observing very strange behavior when my program attempts to expose a\n",
              "drawingarea. namely, some xlib operations work, and some do not. in\n",
              "particular, the expose consist of two xfillrectangle calls followed by some\n",
              "xdrawpoint calls, and for reasons unknown to me the point calls are failing\n",
              "whenever a pulldown or popup up menu is (clicked on and) moved in the\n",
              "rightward direction over the drawing area, but after the move, is still on\n",
              "some part of the drawing area. this also happens less consistently when the\n",
              "pulldown/popup is moved in the leftward direction.\n",
              "\n",
              "assuming that my code is not doing anything incredibly odd, is this a server\n",
              "bug?\n",
              "\n",
              "thanks,</td>\n",
              "      <td id=\"T_dcec5_row3_col1\" class=\"data row3 col1\" >0</td>\n",
              "      <td id=\"T_dcec5_row3_col2\" class=\"data row3 col2\" >['hi', 'trying', 'to', 'write', 'motif', 'program', 'on', 'an', 'interactive', 'unix', 'machine', 'and', 'observing', 'very', 'strange', 'behavior', 'when', 'my', 'program', 'attempts', 'to', 'expose', 'drawingarea', 'namely', 'some', 'xlib', 'operations', 'work', 'and', 'some', 'do', 'not', 'in', 'particular', 'the', 'expose', 'consist', 'of', 'two', 'xfillrectangle', 'calls', 'followed', 'by', 'some', 'xdrawpoint', 'calls', 'and', 'for', 'reasons', 'unknown', 'to', 'me', 'the', 'point', 'calls', 'are', 'failing', 'whenever', 'pulldown', 'or', 'popup', 'up', 'menu', 'is', 'clicked', 'on', 'and', 'moved', 'in', 'the', 'rightward', 'direction', 'over', 'the', 'drawing', 'area', 'but', 'after', 'the', 'move', 'is', 'still', 'on', 'some', 'part', 'of', 'the', 'drawing', 'area', 'this', 'also', 'happens', 'less', 'consistently', 'when', 'the', 'pulldown', 'popup', 'is', 'moved', 'in', 'the', 'leftward', 'direction', 'assuming', 'that', 'my', 'code', 'is', 'not', 'doing', 'anything', 'incredibly', 'odd', 'is', 'this', 'server', 'bug', 'thanks']</td>\n",
              "    </tr>\n",
              "    <tr>\n",
              "      <th id=\"T_dcec5_level0_row4\" class=\"row_heading level0 row4\" >57</th>\n",
              "      <td id=\"T_dcec5_row4_col0\" class=\"data row4 col0\" >please subscribe me to this mailing list</td>\n",
              "      <td id=\"T_dcec5_row4_col1\" class=\"data row4 col1\" >0</td>\n",
              "      <td id=\"T_dcec5_row4_col2\" class=\"data row4 col2\" >['please', 'subscribe', 'me', 'to', 'this', 'mailing', 'list']</td>\n",
              "    </tr>\n",
              "  </tbody>\n",
              "</table>\n"
            ]
          },
          "metadata": {},
          "execution_count": 23
        }
      ]
    },
    {
      "cell_type": "markdown",
      "source": [
        "We have removed all the letters that had single words such as 'a' , 'have' etc. So now we need to perform EDA after data cleaning. To perform the EDA, we will use NLTK tool FreqDist which will allow us to produce an output resembling a dictionary including their frequencies."
      ],
      "metadata": {
        "id": "ZiXj46zL7JyC"
      }
    },
    {
      "cell_type": "code",
      "source": [
        "print(X_train.columns)\n"
      ],
      "metadata": {
        "colab": {
          "base_uri": "https://localhost:8080/"
        },
        "id": "7ya0V0D681y5",
        "outputId": "1175de54-df10-4b0a-92b0-d26019e1a007"
      },
      "execution_count": 30,
      "outputs": [
        {
          "output_type": "stream",
          "name": "stdout",
          "text": [
            "Index(['text'], dtype='object')\n"
          ]
        }
      ]
    },
    {
      "cell_type": "code",
      "source": [
        "# To create a frequency distribution\n",
        "\n",
        "from nltk import FreqDist\n",
        "\n",
        "example_freq_dist = FreqDist(X_train.loc[100, column_name][:20])\n",
        "example_freq_dist\n",
        "\n",
        "\n"
      ],
      "metadata": {
        "colab": {
          "base_uri": "https://localhost:8080/",
          "height": 501
        },
        "id": "L_itr-v16_l8",
        "outputId": "69748160-1540-494c-aac8-361334269f42"
      },
      "execution_count": 39,
      "outputs": [
        {
          "output_type": "error",
          "ename": "KeyError",
          "evalue": "ignored",
          "traceback": [
            "\u001b[0;31m---------------------------------------------------------------------------\u001b[0m",
            "\u001b[0;31mKeyError\u001b[0m                                  Traceback (most recent call last)",
            "\u001b[0;32m/usr/local/lib/python3.10/dist-packages/pandas/core/indexes/base.py\u001b[0m in \u001b[0;36mget_loc\u001b[0;34m(self, key, method, tolerance)\u001b[0m\n\u001b[1;32m   3801\u001b[0m             \u001b[0;32mtry\u001b[0m\u001b[0;34m:\u001b[0m\u001b[0;34m\u001b[0m\u001b[0;34m\u001b[0m\u001b[0m\n\u001b[0;32m-> 3802\u001b[0;31m                 \u001b[0;32mreturn\u001b[0m \u001b[0mself\u001b[0m\u001b[0;34m.\u001b[0m\u001b[0m_engine\u001b[0m\u001b[0;34m.\u001b[0m\u001b[0mget_loc\u001b[0m\u001b[0;34m(\u001b[0m\u001b[0mcasted_key\u001b[0m\u001b[0;34m)\u001b[0m\u001b[0;34m\u001b[0m\u001b[0;34m\u001b[0m\u001b[0m\n\u001b[0m\u001b[1;32m   3803\u001b[0m             \u001b[0;32mexcept\u001b[0m \u001b[0mKeyError\u001b[0m \u001b[0;32mas\u001b[0m \u001b[0merr\u001b[0m\u001b[0;34m:\u001b[0m\u001b[0;34m\u001b[0m\u001b[0;34m\u001b[0m\u001b[0m\n",
            "\u001b[0;32m/usr/local/lib/python3.10/dist-packages/pandas/_libs/index.pyx\u001b[0m in \u001b[0;36mpandas._libs.index.IndexEngine.get_loc\u001b[0;34m()\u001b[0m\n",
            "\u001b[0;32m/usr/local/lib/python3.10/dist-packages/pandas/_libs/index.pyx\u001b[0m in \u001b[0;36mpandas._libs.index.IndexEngine.get_loc\u001b[0;34m()\u001b[0m\n",
            "\u001b[0;32mpandas/_libs/hashtable_class_helper.pxi\u001b[0m in \u001b[0;36mpandas._libs.hashtable.PyObjectHashTable.get_item\u001b[0;34m()\u001b[0m\n",
            "\u001b[0;32mpandas/_libs/hashtable_class_helper.pxi\u001b[0m in \u001b[0;36mpandas._libs.hashtable.PyObjectHashTable.get_item\u001b[0;34m()\u001b[0m\n",
            "\u001b[0;31mKeyError\u001b[0m: 'tokenized_text'",
            "\nThe above exception was the direct cause of the following exception:\n",
            "\u001b[0;31mKeyError\u001b[0m                                  Traceback (most recent call last)",
            "\u001b[0;32m<ipython-input-39-c9afd011c00b>\u001b[0m in \u001b[0;36m<cell line: 5>\u001b[0;34m()\u001b[0m\n\u001b[1;32m      3\u001b[0m \u001b[0;32mfrom\u001b[0m \u001b[0mnltk\u001b[0m \u001b[0;32mimport\u001b[0m \u001b[0mFreqDist\u001b[0m\u001b[0;34m\u001b[0m\u001b[0;34m\u001b[0m\u001b[0m\n\u001b[1;32m      4\u001b[0m \u001b[0;34m\u001b[0m\u001b[0m\n\u001b[0;32m----> 5\u001b[0;31m \u001b[0mexample_freq_dist\u001b[0m \u001b[0;34m=\u001b[0m \u001b[0mFreqDist\u001b[0m\u001b[0;34m(\u001b[0m\u001b[0mX_train\u001b[0m\u001b[0;34m.\u001b[0m\u001b[0mloc\u001b[0m\u001b[0;34m[\u001b[0m\u001b[0;36m100\u001b[0m\u001b[0;34m,\u001b[0m \u001b[0mcolumn_name\u001b[0m\u001b[0;34m]\u001b[0m\u001b[0;34m[\u001b[0m\u001b[0;34m:\u001b[0m\u001b[0;36m20\u001b[0m\u001b[0;34m]\u001b[0m\u001b[0;34m)\u001b[0m\u001b[0;34m\u001b[0m\u001b[0;34m\u001b[0m\u001b[0m\n\u001b[0m\u001b[1;32m      6\u001b[0m \u001b[0mexample_freq_dist\u001b[0m\u001b[0;34m\u001b[0m\u001b[0;34m\u001b[0m\u001b[0m\n\u001b[1;32m      7\u001b[0m \u001b[0;34m\u001b[0m\u001b[0m\n",
            "\u001b[0;32m/usr/local/lib/python3.10/dist-packages/pandas/core/indexing.py\u001b[0m in \u001b[0;36m__getitem__\u001b[0;34m(self, key)\u001b[0m\n\u001b[1;32m   1064\u001b[0m             \u001b[0mkey\u001b[0m \u001b[0;34m=\u001b[0m \u001b[0mtuple\u001b[0m\u001b[0;34m(\u001b[0m\u001b[0mcom\u001b[0m\u001b[0;34m.\u001b[0m\u001b[0mapply_if_callable\u001b[0m\u001b[0;34m(\u001b[0m\u001b[0mx\u001b[0m\u001b[0;34m,\u001b[0m \u001b[0mself\u001b[0m\u001b[0;34m.\u001b[0m\u001b[0mobj\u001b[0m\u001b[0;34m)\u001b[0m \u001b[0;32mfor\u001b[0m \u001b[0mx\u001b[0m \u001b[0;32min\u001b[0m \u001b[0mkey\u001b[0m\u001b[0;34m)\u001b[0m\u001b[0;34m\u001b[0m\u001b[0;34m\u001b[0m\u001b[0m\n\u001b[1;32m   1065\u001b[0m             \u001b[0;32mif\u001b[0m \u001b[0mself\u001b[0m\u001b[0;34m.\u001b[0m\u001b[0m_is_scalar_access\u001b[0m\u001b[0;34m(\u001b[0m\u001b[0mkey\u001b[0m\u001b[0;34m)\u001b[0m\u001b[0;34m:\u001b[0m\u001b[0;34m\u001b[0m\u001b[0;34m\u001b[0m\u001b[0m\n\u001b[0;32m-> 1066\u001b[0;31m                 \u001b[0;32mreturn\u001b[0m \u001b[0mself\u001b[0m\u001b[0;34m.\u001b[0m\u001b[0mobj\u001b[0m\u001b[0;34m.\u001b[0m\u001b[0m_get_value\u001b[0m\u001b[0;34m(\u001b[0m\u001b[0;34m*\u001b[0m\u001b[0mkey\u001b[0m\u001b[0;34m,\u001b[0m \u001b[0mtakeable\u001b[0m\u001b[0;34m=\u001b[0m\u001b[0mself\u001b[0m\u001b[0;34m.\u001b[0m\u001b[0m_takeable\u001b[0m\u001b[0;34m)\u001b[0m\u001b[0;34m\u001b[0m\u001b[0;34m\u001b[0m\u001b[0m\n\u001b[0m\u001b[1;32m   1067\u001b[0m             \u001b[0;32mreturn\u001b[0m \u001b[0mself\u001b[0m\u001b[0;34m.\u001b[0m\u001b[0m_getitem_tuple\u001b[0m\u001b[0;34m(\u001b[0m\u001b[0mkey\u001b[0m\u001b[0;34m)\u001b[0m\u001b[0;34m\u001b[0m\u001b[0;34m\u001b[0m\u001b[0m\n\u001b[1;32m   1068\u001b[0m         \u001b[0;32melse\u001b[0m\u001b[0;34m:\u001b[0m\u001b[0;34m\u001b[0m\u001b[0;34m\u001b[0m\u001b[0m\n",
            "\u001b[0;32m/usr/local/lib/python3.10/dist-packages/pandas/core/frame.py\u001b[0m in \u001b[0;36m_get_value\u001b[0;34m(self, index, col, takeable)\u001b[0m\n\u001b[1;32m   3915\u001b[0m             \u001b[0;32mreturn\u001b[0m \u001b[0mseries\u001b[0m\u001b[0;34m.\u001b[0m\u001b[0m_values\u001b[0m\u001b[0;34m[\u001b[0m\u001b[0mindex\u001b[0m\u001b[0;34m]\u001b[0m\u001b[0;34m\u001b[0m\u001b[0;34m\u001b[0m\u001b[0m\n\u001b[1;32m   3916\u001b[0m \u001b[0;34m\u001b[0m\u001b[0m\n\u001b[0;32m-> 3917\u001b[0;31m         \u001b[0mseries\u001b[0m \u001b[0;34m=\u001b[0m \u001b[0mself\u001b[0m\u001b[0;34m.\u001b[0m\u001b[0m_get_item_cache\u001b[0m\u001b[0;34m(\u001b[0m\u001b[0mcol\u001b[0m\u001b[0;34m)\u001b[0m\u001b[0;34m\u001b[0m\u001b[0;34m\u001b[0m\u001b[0m\n\u001b[0m\u001b[1;32m   3918\u001b[0m         \u001b[0mengine\u001b[0m \u001b[0;34m=\u001b[0m \u001b[0mself\u001b[0m\u001b[0;34m.\u001b[0m\u001b[0mindex\u001b[0m\u001b[0;34m.\u001b[0m\u001b[0m_engine\u001b[0m\u001b[0;34m\u001b[0m\u001b[0;34m\u001b[0m\u001b[0m\n\u001b[1;32m   3919\u001b[0m \u001b[0;34m\u001b[0m\u001b[0m\n",
            "\u001b[0;32m/usr/local/lib/python3.10/dist-packages/pandas/core/frame.py\u001b[0m in \u001b[0;36m_get_item_cache\u001b[0;34m(self, item)\u001b[0m\n\u001b[1;32m   4280\u001b[0m             \u001b[0;31m#  pending resolution of GH#33047\u001b[0m\u001b[0;34m\u001b[0m\u001b[0;34m\u001b[0m\u001b[0m\n\u001b[1;32m   4281\u001b[0m \u001b[0;34m\u001b[0m\u001b[0m\n\u001b[0;32m-> 4282\u001b[0;31m             \u001b[0mloc\u001b[0m \u001b[0;34m=\u001b[0m \u001b[0mself\u001b[0m\u001b[0;34m.\u001b[0m\u001b[0mcolumns\u001b[0m\u001b[0;34m.\u001b[0m\u001b[0mget_loc\u001b[0m\u001b[0;34m(\u001b[0m\u001b[0mitem\u001b[0m\u001b[0;34m)\u001b[0m\u001b[0;34m\u001b[0m\u001b[0;34m\u001b[0m\u001b[0m\n\u001b[0m\u001b[1;32m   4283\u001b[0m             \u001b[0mres\u001b[0m \u001b[0;34m=\u001b[0m \u001b[0mself\u001b[0m\u001b[0;34m.\u001b[0m\u001b[0m_ixs\u001b[0m\u001b[0;34m(\u001b[0m\u001b[0mloc\u001b[0m\u001b[0;34m,\u001b[0m \u001b[0maxis\u001b[0m\u001b[0;34m=\u001b[0m\u001b[0;36m1\u001b[0m\u001b[0;34m)\u001b[0m\u001b[0;34m\u001b[0m\u001b[0;34m\u001b[0m\u001b[0m\n\u001b[1;32m   4284\u001b[0m \u001b[0;34m\u001b[0m\u001b[0m\n",
            "\u001b[0;32m/usr/local/lib/python3.10/dist-packages/pandas/core/indexes/base.py\u001b[0m in \u001b[0;36mget_loc\u001b[0;34m(self, key, method, tolerance)\u001b[0m\n\u001b[1;32m   3802\u001b[0m                 \u001b[0;32mreturn\u001b[0m \u001b[0mself\u001b[0m\u001b[0;34m.\u001b[0m\u001b[0m_engine\u001b[0m\u001b[0;34m.\u001b[0m\u001b[0mget_loc\u001b[0m\u001b[0;34m(\u001b[0m\u001b[0mcasted_key\u001b[0m\u001b[0;34m)\u001b[0m\u001b[0;34m\u001b[0m\u001b[0;34m\u001b[0m\u001b[0m\n\u001b[1;32m   3803\u001b[0m             \u001b[0;32mexcept\u001b[0m \u001b[0mKeyError\u001b[0m \u001b[0;32mas\u001b[0m \u001b[0merr\u001b[0m\u001b[0;34m:\u001b[0m\u001b[0;34m\u001b[0m\u001b[0;34m\u001b[0m\u001b[0m\n\u001b[0;32m-> 3804\u001b[0;31m                 \u001b[0;32mraise\u001b[0m \u001b[0mKeyError\u001b[0m\u001b[0;34m(\u001b[0m\u001b[0mkey\u001b[0m\u001b[0;34m)\u001b[0m \u001b[0;32mfrom\u001b[0m \u001b[0merr\u001b[0m\u001b[0;34m\u001b[0m\u001b[0;34m\u001b[0m\u001b[0m\n\u001b[0m\u001b[1;32m   3805\u001b[0m             \u001b[0;32mexcept\u001b[0m \u001b[0mTypeError\u001b[0m\u001b[0;34m:\u001b[0m\u001b[0;34m\u001b[0m\u001b[0;34m\u001b[0m\u001b[0m\n\u001b[1;32m   3806\u001b[0m                 \u001b[0;31m# If we have a listlike key, _check_indexing_error will raise\u001b[0m\u001b[0;34m\u001b[0m\u001b[0;34m\u001b[0m\u001b[0m\n",
            "\u001b[0;31mKeyError\u001b[0m: 'tokenized_text'"
          ]
        }
      ]
    },
    {
      "cell_type": "code",
      "source": [],
      "metadata": {
        "id": "1a1fr4K7_Bvx"
      },
      "execution_count": null,
      "outputs": []
    },
    {
      "cell_type": "code",
      "source": [
        "import matplotlib.pyplot as plt\n",
        "from matplotlib.ticker import MaxNLocator\n",
        "\n",
        "def visualize_top_10(freq_dist, title):\n",
        "\n",
        "    # Extract data for plotting\n",
        "    top_10 = list(zip(*freq_dist.most_common(10)))\n",
        "    tokens = top_10[0]\n",
        "    counts = top_10[1]\n",
        "\n",
        "    # Set up plot and plot data\n",
        "    fig, ax = plt.subplots()\n",
        "    ax.bar(tokens, counts)\n",
        "\n",
        "    # Customize plot appearance\n",
        "    ax.set_title(title)\n",
        "    ax.set_ylabel(\"Count\")\n",
        "    ax.yaxis.set_major_locator(MaxNLocator(integer=True))\n",
        "    ax.tick_params(axis=\"x\", rotation=90)\n",
        "    \n",
        "visualize_top_10(example_freq_dist, \"Top 10 Word Frequency for Example Tokens\")"
      ],
      "metadata": {
        "colab": {
          "base_uri": "https://localhost:8080/",
          "height": 200
        },
        "id": "SgFyjjUH9X5y",
        "outputId": "3143f84f-c524-412d-ea9a-bb1b0724d045"
      },
      "execution_count": 34,
      "outputs": [
        {
          "output_type": "error",
          "ename": "NameError",
          "evalue": "ignored",
          "traceback": [
            "\u001b[0;31m---------------------------------------------------------------------------\u001b[0m",
            "\u001b[0;31mNameError\u001b[0m                                 Traceback (most recent call last)",
            "\u001b[0;32m<ipython-input-34-3061b721e691>\u001b[0m in \u001b[0;36m<cell line: 21>\u001b[0;34m()\u001b[0m\n\u001b[1;32m     19\u001b[0m     \u001b[0max\u001b[0m\u001b[0;34m.\u001b[0m\u001b[0mtick_params\u001b[0m\u001b[0;34m(\u001b[0m\u001b[0maxis\u001b[0m\u001b[0;34m=\u001b[0m\u001b[0;34m\"x\"\u001b[0m\u001b[0;34m,\u001b[0m \u001b[0mrotation\u001b[0m\u001b[0;34m=\u001b[0m\u001b[0;36m90\u001b[0m\u001b[0;34m)\u001b[0m\u001b[0;34m\u001b[0m\u001b[0;34m\u001b[0m\u001b[0m\n\u001b[1;32m     20\u001b[0m \u001b[0;34m\u001b[0m\u001b[0m\n\u001b[0;32m---> 21\u001b[0;31m \u001b[0mvisualize_top_10\u001b[0m\u001b[0;34m(\u001b[0m\u001b[0mexample_freq_dist\u001b[0m\u001b[0;34m,\u001b[0m \u001b[0;34m\"Top 10 Word Frequency for Example Tokens\"\u001b[0m\u001b[0;34m)\u001b[0m\u001b[0;34m\u001b[0m\u001b[0;34m\u001b[0m\u001b[0m\n\u001b[0m",
            "\u001b[0;31mNameError\u001b[0m: name 'example_freq_dist' is not defined"
          ]
        }
      ]
    }
  ]
}